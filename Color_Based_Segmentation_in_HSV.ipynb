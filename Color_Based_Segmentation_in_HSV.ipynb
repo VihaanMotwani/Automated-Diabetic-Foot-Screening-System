{
  "nbformat": 4,
  "nbformat_minor": 0,
  "metadata": {
    "colab": {
      "provenance": [],
      "authorship_tag": "ABX9TyND5JH4BnmKbHnrak/cRJkz",
      "include_colab_link": true
    },
    "kernelspec": {
      "name": "python3",
      "display_name": "Python 3"
    },
    "language_info": {
      "name": "python"
    }
  },
  "cells": [
    {
      "cell_type": "markdown",
      "metadata": {
        "id": "view-in-github",
        "colab_type": "text"
      },
      "source": [
        "<a href=\"https://colab.research.google.com/github/VihaanMotwani/Automated-Diabetic-Foot-Screening-System/blob/main/Color_Based_Segmentation_in_HSV.ipynb\" target=\"_parent\"><img src=\"https://colab.research.google.com/assets/colab-badge.svg\" alt=\"Open In Colab\"/></a>"
      ]
    },
    {
      "cell_type": "code",
      "execution_count": 12,
      "metadata": {
        "id": "V8qeKhA2OgGi"
      },
      "outputs": [],
      "source": [
        "import cv2\n",
        "import glob\n",
        "import os\n",
        "import numpy as np"
      ]
    },
    {
      "cell_type": "code",
      "source": [
        "# Adjust these to your own folder paths\n",
        "input_folder = \"images\"\n",
        "output_folder = \"output\"\n",
        "\n",
        "# Create the output folder if it doesn't exist\n",
        "os.makedirs(output_folder, exist_ok=True)\n",
        "\n",
        "# Define HSV range for the foot (example range—adjust as needed)\n",
        "lower_color = np.array([0, 40, 40], dtype=np.uint8)\n",
        "upper_color = np.array([50, 255, 255], dtype=np.uint8)\n",
        "\n",
        "# Morphological kernel\n",
        "kernel = np.ones((5, 5), np.uint8)"
      ],
      "metadata": {
        "id": "IdT0DSrjp3t4"
      },
      "execution_count": null,
      "outputs": []
    },
    {
      "cell_type": "code",
      "source": [
        "# Loop over all image files in the input folder\n",
        "for img_path in glob.glob(os.path.join(input_folder, \"*.jpg\")):\n",
        "    # Read the image\n",
        "    img = cv2.imread(img_path)\n",
        "    if img is None:\n",
        "        print(f\"Could not read image: {img_path}\")\n",
        "        continue\n",
        "\n",
        "    # (Optional) Crop out a known region like the scale bar, if needed\n",
        "    # Example: Crop 50 px from the right\n",
        "    # img = img[:, :-50]\n",
        "\n",
        "    # Convert to HSV\n",
        "    hsv = cv2.cvtColor(img, cv2.COLOR_BGR2HSV)\n",
        "\n",
        "    # Create a binary mask\n",
        "    mask = cv2.inRange(hsv, lower_color, upper_color)\n",
        "\n",
        "    # Morphological closing to fill small holes\n",
        "    closed_mask = cv2.morphologyEx(mask, cv2.MORPH_CLOSE, kernel)\n",
        "\n",
        "    # Keep only the largest connected component (the foot)\n",
        "    num_labels, labels, stats, centroids = cv2.connectedComponentsWithStats(closed_mask, connectivity=8)\n",
        "    # If there's at least one foreground component\n",
        "    if num_labels > 1:\n",
        "        # Find the label of the largest component (excluding background at index 0)\n",
        "        largest_label = 1 + np.argmax(stats[1:, cv2.CC_STAT_AREA])\n",
        "        largest_mask = np.uint8(labels == largest_label) * 255\n",
        "    else:\n",
        "        # If no foreground found, just keep the closed_mask\n",
        "        largest_mask = closed_mask\n",
        "\n",
        "    # Extract the foot region\n",
        "    foot_segmented = cv2.bitwise_and(img, img, mask=largest_mask)\n",
        "\n",
        "    # Save the segmented foot image\n",
        "    filename = os.path.basename(img_path)\n",
        "    out_path = os.path.join(output_folder, f\"seg_{filename}\")\n",
        "    cv2.imwrite(out_path, foot_segmented)\n",
        "    print(f\"Processed and saved: {out_path}\")\n"
      ],
      "metadata": {
        "colab": {
          "base_uri": "https://localhost:8080/"
        },
        "id": "YP7RZQ9PWCV4",
        "outputId": "a286a480-6c43-4d8b-eb40-d0e951fe7c8d"
      },
      "execution_count": 31,
      "outputs": [
        {
          "output_type": "stream",
          "name": "stdout",
          "text": [
            "Processed and saved: output/seg_1017085011-IR.jpg\n",
            "Processed and saved: output/seg_1017084959-IR.jpg\n",
            "Processed and saved: output/seg_1017084940-IR.jpg\n",
            "Processed and saved: output/seg_1017084927-IR.jpg\n",
            "Processed and saved: output/seg_1017084836-IR.jpg\n",
            "Processed and saved: output/seg_1017084917-IR.jpg\n",
            "Processed and saved: output/seg_1017084950-IR.jpg\n",
            "Processed and saved: output/seg_1017084827-IR.jpg\n"
          ]
        }
      ]
    }
  ]
}