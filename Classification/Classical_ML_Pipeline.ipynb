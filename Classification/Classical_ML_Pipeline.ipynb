{
  "nbformat": 4,
  "nbformat_minor": 0,
  "metadata": {
    "colab": {
      "provenance": [],
      "gpuType": "T4"
    },
    "kernelspec": {
      "name": "python3",
      "display_name": "Python 3"
    },
    "language_info": {
      "name": "python"
    },
    "accelerator": "GPU"
  },
  "cells": [
    {
      "cell_type": "code",
      "metadata": {
        "colab": {
          "base_uri": "https://localhost:8080/"
        },
        "id": "0026f3ae",
        "outputId": "dc137682-8205-4e3e-b25c-a2f55dde8113"
      },
      "source": [
        "!pip install optuna imbalanced-learn"
      ],
      "execution_count": 24,
      "outputs": [
        {
          "output_type": "stream",
          "name": "stdout",
          "text": [
            "Collecting optuna\n",
            "  Downloading optuna-4.4.0-py3-none-any.whl.metadata (17 kB)\n",
            "Requirement already satisfied: imbalanced-learn in /usr/local/lib/python3.11/dist-packages (0.13.0)\n",
            "Collecting alembic>=1.5.0 (from optuna)\n",
            "  Downloading alembic-1.16.2-py3-none-any.whl.metadata (7.3 kB)\n",
            "Collecting colorlog (from optuna)\n",
            "  Downloading colorlog-6.9.0-py3-none-any.whl.metadata (10 kB)\n",
            "Requirement already satisfied: numpy in /usr/local/lib/python3.11/dist-packages (from optuna) (2.0.2)\n",
            "Requirement already satisfied: packaging>=20.0 in /usr/local/lib/python3.11/dist-packages (from optuna) (24.2)\n",
            "Requirement already satisfied: sqlalchemy>=1.4.2 in /usr/local/lib/python3.11/dist-packages (from optuna) (2.0.41)\n",
            "Requirement already satisfied: tqdm in /usr/local/lib/python3.11/dist-packages (from optuna) (4.67.1)\n",
            "Requirement already satisfied: PyYAML in /usr/local/lib/python3.11/dist-packages (from optuna) (6.0.2)\n",
            "Requirement already satisfied: scipy<2,>=1.10.1 in /usr/local/lib/python3.11/dist-packages (from imbalanced-learn) (1.15.3)\n",
            "Requirement already satisfied: scikit-learn<2,>=1.3.2 in /usr/local/lib/python3.11/dist-packages (from imbalanced-learn) (1.6.1)\n",
            "Requirement already satisfied: sklearn-compat<1,>=0.1 in /usr/local/lib/python3.11/dist-packages (from imbalanced-learn) (0.1.3)\n",
            "Requirement already satisfied: joblib<2,>=1.1.1 in /usr/local/lib/python3.11/dist-packages (from imbalanced-learn) (1.5.1)\n",
            "Requirement already satisfied: threadpoolctl<4,>=2.0.0 in /usr/local/lib/python3.11/dist-packages (from imbalanced-learn) (3.6.0)\n",
            "Requirement already satisfied: Mako in /usr/lib/python3/dist-packages (from alembic>=1.5.0->optuna) (1.1.3)\n",
            "Requirement already satisfied: typing-extensions>=4.12 in /usr/local/lib/python3.11/dist-packages (from alembic>=1.5.0->optuna) (4.14.0)\n",
            "Requirement already satisfied: greenlet>=1 in /usr/local/lib/python3.11/dist-packages (from sqlalchemy>=1.4.2->optuna) (3.2.3)\n",
            "Downloading optuna-4.4.0-py3-none-any.whl (395 kB)\n",
            "\u001b[2K   \u001b[90m━━━━━━━━━━━━━━━━━━━━━━━━━━━━━━━━━━━━━━━━\u001b[0m \u001b[32m395.9/395.9 kB\u001b[0m \u001b[31m12.2 MB/s\u001b[0m eta \u001b[36m0:00:00\u001b[0m\n",
            "\u001b[?25hDownloading alembic-1.16.2-py3-none-any.whl (242 kB)\n",
            "\u001b[2K   \u001b[90m━━━━━━━━━━━━━━━━━━━━━━━━━━━━━━━━━━━━━━━━\u001b[0m \u001b[32m242.7/242.7 kB\u001b[0m \u001b[31m22.1 MB/s\u001b[0m eta \u001b[36m0:00:00\u001b[0m\n",
            "\u001b[?25hDownloading colorlog-6.9.0-py3-none-any.whl (11 kB)\n",
            "Installing collected packages: colorlog, alembic, optuna\n",
            "Successfully installed alembic-1.16.2 colorlog-6.9.0 optuna-4.4.0\n"
          ]
        }
      ]
    },
    {
      "cell_type": "code",
      "source": [
        "import pandas as pd\n",
        "import numpy as np\n",
        "import matplotlib.pyplot as plt\n",
        "import seaborn as sns\n",
        "from sklearn.model_selection import train_test_split, cross_val_score, StratifiedKFold\n",
        "from sklearn.preprocessing import StandardScaler\n",
        "from sklearn.svm import SVC\n",
        "from sklearn.ensemble import RandomForestClassifier\n",
        "import xgboost as xgb\n",
        "from sklearn.metrics import classification_report, confusion_matrix, accuracy_score\n",
        "import os\n",
        "import glob\n",
        "from imblearn.combine import SMOTETomek\n",
        "import optuna\n",
        "import warnings\n",
        "warnings.filterwarnings('ignore')"
      ],
      "metadata": {
        "id": "6q6Y4Kp_Mrdw"
      },
      "execution_count": 48,
      "outputs": []
    },
    {
      "cell_type": "code",
      "source": [
        "BASE_DATA_PATH = \"/content/drive/MyDrive/ThermoDataBase\"\n",
        "np.random.seed(42)"
      ],
      "metadata": {
        "id": "hwz0zyCAM2LX"
      },
      "execution_count": 26,
      "outputs": []
    },
    {
      "cell_type": "code",
      "source": [
        "import pandas as pd\n",
        "import numpy as np\n",
        "import os\n",
        "import glob\n",
        "\n",
        "def load_and_balance_data(base_path, diabetic_sample_size=120):\n",
        "    \"\"\"\n",
        "    Loads all data and then under-samples the majority (Diabetic) class\n",
        "    to create a more balanced dataset.\n",
        "    \"\"\"\n",
        "    print(\"Loading all thermogram data...\")\n",
        "    all_data = {'Control': [], 'Diabetic': []}\n",
        "\n",
        "    # Load Control Group\n",
        "    cg_pattern = os.path.join(base_path, \"Control Group\", \"CG*\", \"*.csv\")\n",
        "    cg_files = glob.glob(cg_pattern)\n",
        "    for file_path in cg_files:\n",
        "        df = pd.read_csv(file_path, header=None)\n",
        "        temp_data = df.values.flatten()\n",
        "        all_data['Control'].append(temp_data[np.isfinite(temp_data)])\n",
        "\n",
        "    # Load Diabetic Group\n",
        "    dm_pattern = os.path.join(base_path, \"DM Group\", \"DM*\", \"*.csv\")\n",
        "    dm_files = glob.glob(dm_pattern)\n",
        "    for file_path in dm_files:\n",
        "        df = pd.read_csv(file_path, header=None)\n",
        "        temp_data = df.values.flatten()\n",
        "        all_data['Diabetic'].append(temp_data[np.isfinite(temp_data)])\n",
        "\n",
        "    print(f\"Original counts: Control={len(all_data['Control'])}, Diabetic={len(all_data['Diabetic'])}\")\n",
        "\n",
        "    np.random.seed(42) # for reproducibility\n",
        "    diabetic_indices = np.random.choice(\n",
        "        len(all_data['Diabetic']),\n",
        "        size=diabetic_sample_size,\n",
        "        replace=False\n",
        "    )\n",
        "    diabetic_samples_undersampled = [all_data['Diabetic'][i] for i in diabetic_indices]\n",
        "\n",
        "    print(f\"After under-sampling: Control={len(all_data['Control'])}, Diabetic={len(diabetic_samples_undersampled)}\")\n",
        "\n",
        "    # Combine into final list\n",
        "    raw_data_list = all_data['Control'] + diabetic_samples_undersampled\n",
        "    labels = np.array([0] * len(all_data['Control']) + [1] * len(diabetic_samples_undersampled))\n",
        "\n",
        "    return raw_data_list, labels\n",
        "\n",
        "raw_data_list, y = load_and_balance_data(BASE_DATA_PATH, diabetic_sample_size=90)"
      ],
      "metadata": {
        "colab": {
          "base_uri": "https://localhost:8080/"
        },
        "id": "d4Fa-pXAM1WT",
        "outputId": "5228b648-5e13-4d2a-f167-c2293ae0621b"
      },
      "execution_count": 60,
      "outputs": [
        {
          "output_type": "stream",
          "name": "stdout",
          "text": [
            "Loading all thermogram data...\n",
            "Original counts: Control=90, Diabetic=244\n",
            "After under-sampling: Control=90, Diabetic=90\n"
          ]
        }
      ]
    },
    {
      "cell_type": "code",
      "source": [
        "from scipy.stats import skew, kurtosis\n",
        "\n",
        "def extract_enhanced_features(raw_data_list):\n",
        "    print(\"Extracting enhanced statistical and texture features...\")\n",
        "    features = []\n",
        "    for temp_data in raw_data_list:\n",
        "        if len(temp_data) == 0:\n",
        "            features.append(np.zeros(25)) # Corresponds to the number of features\n",
        "            continue\n",
        "\n",
        "        # Basic Stats\n",
        "        mean_temp = np.mean(temp_data)\n",
        "        std_temp = np.std(temp_data)\n",
        "        max_temp = np.max(temp_data)\n",
        "        min_temp = np.min(temp_data)\n",
        "\n",
        "        # Shape / Distribution Stats\n",
        "        skewness = skew(temp_data)\n",
        "        kurt = kurtosis(temp_data)\n",
        "\n",
        "        # Percentiles\n",
        "        p10, p25, p50, p75, p90 = np.percentile(temp_data, [10, 25, 50, 75, 90])\n",
        "\n",
        "        # Robust Stats\n",
        "        iqr = p75 - p25\n",
        "        mad = np.median(np.abs(temp_data - p50)) # Median Absolute Deviation\n",
        "\n",
        "        # Temperature Zone / Texture Features\n",
        "        hot_threshold = p80 = np.percentile(temp_data, 80)\n",
        "        cold_threshold = p20 = np.percentile(temp_data, 20)\n",
        "        hot_pixel_ratio = np.mean(temp_data > hot_threshold)\n",
        "        cold_pixel_ratio = np.mean(temp_data < cold_threshold)\n",
        "\n",
        "        # Temperature Gradients (simplified texture)\n",
        "        sorted_diffs = np.diff(np.sort(temp_data))\n",
        "        mean_grad = np.mean(sorted_diffs)\n",
        "        std_grad = np.std(sorted_diffs)\n",
        "\n",
        "        # Asymmetry/Interaction features (simple examples)\n",
        "        mean_x_std = mean_temp * std_temp\n",
        "        range_temp = max_temp - min_temp\n",
        "\n",
        "        # Energy and Entropy\n",
        "        hist, _ = np.histogram(temp_data, bins=10, density=True)\n",
        "        energy = np.sum(hist**2)\n",
        "        entropy = -np.sum(hist * np.log2(hist + 1e-9))\n",
        "\n",
        "        # Add more features here\n",
        "        skew_x_kurt = skewness * kurt\n",
        "        temp_range_norm = range_temp / (mean_temp + 1e-9)\n",
        "        hot_cold_ratio = hot_pixel_ratio / (cold_pixel_ratio + 1e-9)\n",
        "\n",
        "        sample_features = [\n",
        "            mean_temp, std_temp, max_temp, min_temp, p10, p25, p50, p75, p90,\n",
        "            iqr, mad, skewness, kurt, hot_pixel_ratio, cold_pixel_ratio,\n",
        "            mean_grad, std_grad, mean_x_std, range_temp, energy, entropy,\n",
        "            skew_x_kurt, temp_range_norm, hot_cold_ratio, len(temp_data)\n",
        "        ]\n",
        "        features.append(sample_features)\n",
        "\n",
        "    return np.array(features)\n",
        "\n",
        "X_enhanced = extract_enhanced_features(raw_data_list)\n",
        "print(f\"Shape of enhanced feature matrix: {X_enhanced.shape}\")"
      ],
      "metadata": {
        "colab": {
          "base_uri": "https://localhost:8080/"
        },
        "id": "YA9PE5TnM90u",
        "outputId": "b4031190-732d-4ec4-cf24-a438f71784e7"
      },
      "execution_count": 61,
      "outputs": [
        {
          "output_type": "stream",
          "name": "stdout",
          "text": [
            "Extracting enhanced statistical and texture features...\n",
            "Shape of enhanced feature matrix: (180, 25)\n"
          ]
        }
      ]
    },
    {
      "cell_type": "code",
      "source": [
        "from sklearn.model_selection import train_test_split\n",
        "from sklearn.preprocessing import StandardScaler\n",
        "\n",
        "X_train, X_test, y_train, y_test = train_test_split(\n",
        "    X_enhanced, y, test_size=0.2, random_state=42, stratify=y\n",
        ")\n",
        "\n",
        "scaler = StandardScaler()\n",
        "X_train_scaled = scaler.fit_transform(X_train)\n",
        "X_test_scaled = scaler.transform(X_test)\n",
        "\n",
        "print(f\"Training shape after balancing and split: {X_train_scaled.shape}\")\n",
        "print(f\"Test shape after balancing and split: {X_test_scaled.shape}\")"
      ],
      "metadata": {
        "colab": {
          "base_uri": "https://localhost:8080/"
        },
        "id": "_PCMWEssNA5F",
        "outputId": "968be806-bed7-4da1-eeca-e444a3662af0"
      },
      "execution_count": 62,
      "outputs": [
        {
          "output_type": "stream",
          "name": "stdout",
          "text": [
            "Training shape after balancing and split: (144, 25)\n",
            "Test shape after balancing and split: (36, 25)\n"
          ]
        }
      ]
    },
    {
      "cell_type": "code",
      "source": [
        "import xgboost as xgb\n",
        "import optuna\n",
        "from sklearn.model_selection import StratifiedKFold, cross_val_score\n",
        "\n",
        "def objective_xgb(trial):\n",
        "    \"\"\"Optuna objective function to find best XGBoost params.\"\"\"\n",
        "    param = {\n",
        "        'objective': 'binary:logistic', 'eval_metric': 'logloss',\n",
        "        'n_estimators': trial.suggest_int('n_estimators', 100, 1000, step=50),\n",
        "        'max_depth': trial.suggest_int('max_depth', 3, 12),\n",
        "        'learning_rate': trial.suggest_float('learning_rate', 0.01, 0.3),\n",
        "        'subsample': trial.suggest_float('subsample', 0.5, 1.0),\n",
        "        'colsample_bytree': trial.suggest_float('colsample_bytree', 0.5, 1.0),\n",
        "        'gamma': trial.suggest_float('gamma', 0, 10),\n",
        "        'lambda': trial.suggest_float('lambda', 0, 10), # L2\n",
        "        'alpha': trial.suggest_float('alpha', 0, 10),     # L1\n",
        "        'use_label_encoder': False, 'random_state': 42\n",
        "    }\n",
        "    model = xgb.XGBClassifier(**param)\n",
        "    cv = StratifiedKFold(n_splits=5, shuffle=True, random_state=42)\n",
        "    score = cross_val_score(model, X_train_scaled, y_train, cv=cv, scoring='accuracy').mean()\n",
        "    return score\n",
        "\n",
        "print(\"\\n--- 1. Starting Hyperparameter Optimization for XGBoost ---\")\n",
        "study_xgb = optuna.create_study(direction='maximize')\n",
        "study_xgb.optimize(objective_xgb, n_trials=100, timeout=600)\n",
        "\n",
        "print(\"\\nXGBoost Optimization Finished.\")\n",
        "print(\"Best trial score: {:.4f}\".format(study_xgb.best_value))\n",
        "print(\"Best parameters found: \", study_xgb.best_params)\n",
        "best_params_xgb = study_xgb.best_params"
      ],
      "metadata": {
        "colab": {
          "base_uri": "https://localhost:8080/"
        },
        "id": "0eODm2ktNDL8",
        "outputId": "8d76cbca-7dfe-40c9-eaec-41202e61d85b"
      },
      "execution_count": 63,
      "outputs": [
        {
          "output_type": "stream",
          "name": "stderr",
          "text": [
            "[I 2025-07-08 18:32:23,627] A new study created in memory with name: no-name-cf3cadbb-04ac-4107-b753-18cd85a43f7d\n"
          ]
        },
        {
          "output_type": "stream",
          "name": "stdout",
          "text": [
            "\n",
            "--- 1. Starting Hyperparameter Optimization for XGBoost ---\n"
          ]
        },
        {
          "output_type": "stream",
          "name": "stderr",
          "text": [
            "[I 2025-07-08 18:32:24,392] Trial 0 finished with value: 0.7692118226600985 and parameters: {'n_estimators': 900, 'max_depth': 11, 'learning_rate': 0.02186339203375818, 'subsample': 0.5385540127537731, 'colsample_bytree': 0.906411450108471, 'gamma': 7.325169030535265, 'lambda': 1.2934827148587036, 'alpha': 3.319200149190568}. Best is trial 0 with value: 0.7692118226600985.\n",
            "[I 2025-07-08 18:32:24,761] Trial 1 finished with value: 0.7487684729064039 and parameters: {'n_estimators': 350, 'max_depth': 5, 'learning_rate': 0.27465941214677286, 'subsample': 0.9328557433782356, 'colsample_bytree': 0.6380376157073417, 'gamma': 6.863079469547935, 'lambda': 6.763275906736928, 'alpha': 4.461289634441018}. Best is trial 0 with value: 0.7692118226600985.\n",
            "[I 2025-07-08 18:32:25,142] Trial 2 finished with value: 0.741871921182266 and parameters: {'n_estimators': 450, 'max_depth': 11, 'learning_rate': 0.11780549190036169, 'subsample': 0.5449761959483862, 'colsample_bytree': 0.6068031434605348, 'gamma': 7.68688332778856, 'lambda': 3.44593485339183, 'alpha': 4.192762046138363}. Best is trial 0 with value: 0.7692118226600985.\n",
            "[I 2025-07-08 18:32:25,623] Trial 3 finished with value: 0.7975369458128079 and parameters: {'n_estimators': 550, 'max_depth': 4, 'learning_rate': 0.2245407728588352, 'subsample': 0.8725101081686513, 'colsample_bytree': 0.7915764895576238, 'gamma': 2.378476746692985, 'lambda': 9.73927926186398, 'alpha': 2.262982234555333}. Best is trial 3 with value: 0.7975369458128079.\n",
            "[I 2025-07-08 18:32:26,377] Trial 4 finished with value: 0.6039408866995073 and parameters: {'n_estimators': 950, 'max_depth': 11, 'learning_rate': 0.047262221445018425, 'subsample': 0.7080649661560785, 'colsample_bytree': 0.825412348350888, 'gamma': 7.672092182321294, 'lambda': 6.938472717053763, 'alpha': 6.7121505489168465}. Best is trial 3 with value: 0.7975369458128079.\n",
            "[I 2025-07-08 18:32:27,140] Trial 5 finished with value: 0.6103448275862069 and parameters: {'n_estimators': 800, 'max_depth': 11, 'learning_rate': 0.15789319985486613, 'subsample': 0.5512459668302918, 'colsample_bytree': 0.8579174735405961, 'gamma': 2.6755428266310277, 'lambda': 5.418523123486096, 'alpha': 8.326263777361092}. Best is trial 3 with value: 0.7975369458128079.\n",
            "[I 2025-07-08 18:32:27,845] Trial 6 finished with value: 0.8113300492610838 and parameters: {'n_estimators': 800, 'max_depth': 4, 'learning_rate': 0.1200538412750215, 'subsample': 0.9388840342096407, 'colsample_bytree': 0.9033365674709424, 'gamma': 3.1705706868367924, 'lambda': 2.2832008044567687, 'alpha': 2.5630556363035337}. Best is trial 6 with value: 0.8113300492610838.\n",
            "[I 2025-07-08 18:32:28,182] Trial 7 finished with value: 0.762807881773399 and parameters: {'n_estimators': 400, 'max_depth': 10, 'learning_rate': 0.13831122085257744, 'subsample': 0.8343898717203542, 'colsample_bytree': 0.5393125835160035, 'gamma': 3.245457726060481, 'lambda': 9.355661346106702, 'alpha': 6.2277765769555025}. Best is trial 6 with value: 0.8113300492610838.\n",
            "[I 2025-07-08 18:32:28,936] Trial 8 finished with value: 0.7766009852216749 and parameters: {'n_estimators': 950, 'max_depth': 3, 'learning_rate': 0.2578730325452803, 'subsample': 0.7153887293577023, 'colsample_bytree': 0.6369527903055631, 'gamma': 1.2939170369563469, 'lambda': 3.921359553684894, 'alpha': 9.012901365706405}. Best is trial 6 with value: 0.8113300492610838.\n",
            "[I 2025-07-08 18:32:29,663] Trial 9 finished with value: 0.7834975369458128 and parameters: {'n_estimators': 800, 'max_depth': 8, 'learning_rate': 0.18050967427251938, 'subsample': 0.8651081439740181, 'colsample_bytree': 0.6131735078071162, 'gamma': 3.5969242916659008, 'lambda': 6.045321129537368, 'alpha': 5.943381304701722}. Best is trial 6 with value: 0.8113300492610838.\n",
            "[I 2025-07-08 18:32:29,969] Trial 10 finished with value: 0.8118226600985221 and parameters: {'n_estimators': 100, 'max_depth': 6, 'learning_rate': 0.09052253801088125, 'subsample': 0.9875377114481014, 'colsample_bytree': 0.9971902808148303, 'gamma': 0.02885361272617537, 'lambda': 1.339758629952521, 'alpha': 0.2835344882490407}. Best is trial 10 with value: 0.8118226600985221.\n",
            "[I 2025-07-08 18:32:30,237] Trial 11 finished with value: 0.804679802955665 and parameters: {'n_estimators': 100, 'max_depth': 6, 'learning_rate': 0.08959120467406495, 'subsample': 0.9941168340399155, 'colsample_bytree': 0.9980447772383868, 'gamma': 0.10280448330055965, 'lambda': 0.009972593443677624, 'alpha': 0.8172144505019958}. Best is trial 10 with value: 0.8118226600985221.\n",
            "[I 2025-07-08 18:32:30,673] Trial 12 finished with value: 0.8182266009852217 and parameters: {'n_estimators': 100, 'max_depth': 7, 'learning_rate': 0.0678900931951589, 'subsample': 0.9937434736802973, 'colsample_bytree': 0.9775747481088624, 'gamma': 5.676853087883896, 'lambda': 2.01174302789869, 'alpha': 0.24535533667095394}. Best is trial 12 with value: 0.8182266009852217.\n",
            "[I 2025-07-08 18:32:31,300] Trial 13 finished with value: 0.8253694581280788 and parameters: {'n_estimators': 150, 'max_depth': 8, 'learning_rate': 0.07017370795963136, 'subsample': 0.9954524193737603, 'colsample_bytree': 0.9953187009056144, 'gamma': 5.208252302903564, 'lambda': 0.32358262801856963, 'alpha': 0.12201271768663105}. Best is trial 13 with value: 0.8253694581280788.\n",
            "[I 2025-07-08 18:32:32,085] Trial 14 finished with value: 0.7975369458128079 and parameters: {'n_estimators': 250, 'max_depth': 8, 'learning_rate': 0.05870395965950849, 'subsample': 0.7885943812939162, 'colsample_bytree': 0.9297836771762897, 'gamma': 5.3525177942876105, 'lambda': 0.06087997649015364, 'alpha': 1.3863178424223306}. Best is trial 13 with value: 0.8253694581280788.\n",
            "[I 2025-07-08 18:32:33,669] Trial 15 finished with value: 0.7832512315270936 and parameters: {'n_estimators': 250, 'max_depth': 9, 'learning_rate': 0.015058563156422372, 'subsample': 0.6339081620225323, 'colsample_bytree': 0.7204293049018438, 'gamma': 9.761138520747336, 'lambda': 2.960400288637784, 'alpha': 0.0026530002198499048}. Best is trial 13 with value: 0.8253694581280788.\n",
            "[I 2025-07-08 18:32:33,957] Trial 16 finished with value: 0.811576354679803 and parameters: {'n_estimators': 200, 'max_depth': 7, 'learning_rate': 0.0694796976250748, 'subsample': 0.9190560810158023, 'colsample_bytree': 0.9528228343847712, 'gamma': 5.4319328309019355, 'lambda': 1.5948279409581874, 'alpha': 1.64796125299001}. Best is trial 13 with value: 0.8253694581280788.\n",
            "[I 2025-07-08 18:32:34,514] Trial 17 finished with value: 0.8044334975369459 and parameters: {'n_estimators': 600, 'max_depth': 9, 'learning_rate': 0.19072123159721283, 'subsample': 0.7921002055584665, 'colsample_bytree': 0.7342408968923249, 'gamma': 6.117240962505335, 'lambda': 4.268482502732112, 'alpha': 3.4196602453127243}. Best is trial 13 with value: 0.8253694581280788.\n",
            "[I 2025-07-08 18:32:34,706] Trial 18 finished with value: 0.825615763546798 and parameters: {'n_estimators': 150, 'max_depth': 7, 'learning_rate': 0.09733696702305639, 'subsample': 0.9995108003565091, 'colsample_bytree': 0.8665576467898694, 'gamma': 4.686656247075105, 'lambda': 0.7297271186713186, 'alpha': 1.323194960145333}. Best is trial 18 with value: 0.825615763546798.\n",
            "[I 2025-07-08 18:32:35,197] Trial 19 finished with value: 0.8046798029556651 and parameters: {'n_estimators': 550, 'max_depth': 9, 'learning_rate': 0.10052153384113355, 'subsample': 0.8976765991427559, 'colsample_bytree': 0.8627344923261916, 'gamma': 9.124558115348552, 'lambda': 0.6001897372616413, 'alpha': 2.0787812611851573}. Best is trial 18 with value: 0.825615763546798.\n",
            "[I 2025-07-08 18:32:35,598] Trial 20 finished with value: 0.7697044334975369 and parameters: {'n_estimators': 300, 'max_depth': 6, 'learning_rate': 0.038586193595754145, 'subsample': 0.6337619246934731, 'colsample_bytree': 0.7962287879194015, 'gamma': 4.285765150479902, 'lambda': 8.013784046979922, 'alpha': 3.2282796383099743}. Best is trial 18 with value: 0.825615763546798.\n",
            "[I 2025-07-08 18:32:35,811] Trial 21 finished with value: 0.8044334975369459 and parameters: {'n_estimators': 150, 'max_depth': 7, 'learning_rate': 0.07281494201333137, 'subsample': 0.9992209378853959, 'colsample_bytree': 0.9447971790857551, 'gamma': 4.448665502268656, 'lambda': 2.516168482629307, 'alpha': 0.8270469659415718}. Best is trial 18 with value: 0.825615763546798.\n",
            "[I 2025-07-08 18:32:36,044] Trial 22 finished with value: 0.8113300492610838 and parameters: {'n_estimators': 200, 'max_depth': 7, 'learning_rate': 0.11127555566212488, 'subsample': 0.9614983796104155, 'colsample_bytree': 0.9631670925157043, 'gamma': 5.959943882999921, 'lambda': 0.9833962515394364, 'alpha': 1.0860593662271312}. Best is trial 18 with value: 0.825615763546798.\n",
            "[I 2025-07-08 18:32:36,205] Trial 23 finished with value: 0.8184729064039409 and parameters: {'n_estimators': 100, 'max_depth': 8, 'learning_rate': 0.14174274926249175, 'subsample': 0.9506313860511951, 'colsample_bytree': 0.9010012907408602, 'gamma': 4.46852265400107, 'lambda': 1.970686579896511, 'alpha': 0.27608843908932945}. Best is trial 18 with value: 0.825615763546798.\n",
            "[I 2025-07-08 18:32:36,541] Trial 24 finished with value: 0.783743842364532 and parameters: {'n_estimators': 200, 'max_depth': 8, 'learning_rate': 0.14748928030769481, 'subsample': 0.8932418108158552, 'colsample_bytree': 0.8641996626690819, 'gamma': 3.8993223227822345, 'lambda': 0.5651679004365183, 'alpha': 0.0391006006953003}. Best is trial 18 with value: 0.825615763546798.\n",
            "[I 2025-07-08 18:32:36,915] Trial 25 finished with value: 0.8184729064039409 and parameters: {'n_estimators': 300, 'max_depth': 10, 'learning_rate': 0.18864538564345726, 'subsample': 0.9388980596955876, 'colsample_bytree': 0.8878004284026515, 'gamma': 4.713285116204425, 'lambda': 2.8364376749681988, 'alpha': 1.7885690357662891}. Best is trial 18 with value: 0.825615763546798.\n",
            "[I 2025-07-08 18:32:37,308] Trial 26 finished with value: 0.79064039408867 and parameters: {'n_estimators': 450, 'max_depth': 9, 'learning_rate': 0.13829912951640339, 'subsample': 0.8458561265793563, 'colsample_bytree': 0.8168416823043821, 'gamma': 6.609856598417936, 'lambda': 4.610496916926577, 'alpha': 2.829550635613764}. Best is trial 18 with value: 0.825615763546798.\n",
            "[I 2025-07-08 18:32:37,535] Trial 27 finished with value: 0.8044334975369459 and parameters: {'n_estimators': 150, 'max_depth': 12, 'learning_rate': 0.1729761105047319, 'subsample': 0.9507232910662065, 'colsample_bytree': 0.6973294443540579, 'gamma': 1.610671350279107, 'lambda': 1.839703963509538, 'alpha': 1.0477735260663297}. Best is trial 18 with value: 0.825615763546798.\n",
            "[I 2025-07-08 18:32:38,175] Trial 28 finished with value: 0.79064039408867 and parameters: {'n_estimators': 650, 'max_depth': 5, 'learning_rate': 0.08460763356528052, 'subsample': 0.815736777742298, 'colsample_bytree': 0.7645972850467287, 'gamma': 5.035518214913996, 'lambda': 3.4698383439738487, 'alpha': 4.336709578400337}. Best is trial 18 with value: 0.825615763546798.\n",
            "[I 2025-07-08 18:32:38,545] Trial 29 finished with value: 0.7834975369458128 and parameters: {'n_estimators': 350, 'max_depth': 8, 'learning_rate': 0.0289682962908126, 'subsample': 0.9660213706951575, 'colsample_bytree': 0.9174681003125308, 'gamma': 8.638453968575185, 'lambda': 1.1613881216033484, 'alpha': 3.648067776132461}. Best is trial 18 with value: 0.825615763546798.\n",
            "[I 2025-07-08 18:32:38,757] Trial 30 finished with value: 0.7697044334975369 and parameters: {'n_estimators': 150, 'max_depth': 10, 'learning_rate': 0.21113918465624026, 'subsample': 0.9068419196029321, 'colsample_bytree': 0.8889595937209913, 'gamma': 6.615315660084056, 'lambda': 0.8319150883883294, 'alpha': 5.533286484264374}. Best is trial 18 with value: 0.825615763546798.\n",
            "[I 2025-07-08 18:32:39,060] Trial 31 finished with value: 0.811576354679803 and parameters: {'n_estimators': 250, 'max_depth': 10, 'learning_rate': 0.21669687101769297, 'subsample': 0.9560922357451817, 'colsample_bytree': 0.8768287682428597, 'gamma': 4.70462202611379, 'lambda': 2.644236483982939, 'alpha': 1.8306354454153055}. Best is trial 18 with value: 0.825615763546798.\n",
            "[I 2025-07-08 18:32:39,351] Trial 32 finished with value: 0.8115763546798028 and parameters: {'n_estimators': 300, 'max_depth': 9, 'learning_rate': 0.2434062852699867, 'subsample': 0.9225369687478184, 'colsample_bytree': 0.8321940263444669, 'gamma': 4.682555347154915, 'lambda': 1.732630531757401, 'alpha': 0.5834581780706719}. Best is trial 18 with value: 0.825615763546798.\n",
            "[I 2025-07-08 18:32:39,803] Trial 33 finished with value: 0.8113300492610838 and parameters: {'n_estimators': 350, 'max_depth': 12, 'learning_rate': 0.12643476096004666, 'subsample': 0.9711641601881256, 'colsample_bytree': 0.915140140292791, 'gamma': 4.115512524884712, 'lambda': 3.2718274628174786, 'alpha': 1.5575715408850912}. Best is trial 18 with value: 0.825615763546798.\n",
            "[I 2025-07-08 18:32:39,996] Trial 34 finished with value: 0.8184729064039409 and parameters: {'n_estimators': 100, 'max_depth': 10, 'learning_rate': 0.19477546969866175, 'subsample': 0.9424554925558686, 'colsample_bytree': 0.9381589523042161, 'gamma': 5.2014679024979795, 'lambda': 0.4561978593746572, 'alpha': 2.4476793632837825}. Best is trial 18 with value: 0.825615763546798.\n",
            "[I 2025-07-08 18:32:40,248] Trial 35 finished with value: 0.762807881773399 and parameters: {'n_estimators': 200, 'max_depth': 6, 'learning_rate': 0.1644347262259339, 'subsample': 0.8667118014210086, 'colsample_bytree': 0.8426859097672478, 'gamma': 7.372020149693988, 'lambda': 2.33665064812679, 'alpha': 7.354178297918288}. Best is trial 18 with value: 0.825615763546798.\n",
            "[I 2025-07-08 18:32:40,608] Trial 36 finished with value: 0.804679802955665 and parameters: {'n_estimators': 300, 'max_depth': 5, 'learning_rate': 0.10762958310759406, 'subsample': 0.8808529197343324, 'colsample_bytree': 0.7894125548231231, 'gamma': 2.396625767323941, 'lambda': 1.2497759385171148, 'alpha': 4.99648678476842}. Best is trial 18 with value: 0.825615763546798.\n",
            "[I 2025-07-08 18:32:41,090] Trial 37 finished with value: 0.8044334975369459 and parameters: {'n_estimators': 400, 'max_depth': 8, 'learning_rate': 0.1316494571958532, 'subsample': 0.9200514676276852, 'colsample_bytree': 0.8939965256152738, 'gamma': 3.371876884622637, 'lambda': 3.787339988134663, 'alpha': 1.2905313127176028}. Best is trial 18 with value: 0.825615763546798.\n",
            "[I 2025-07-08 18:32:41,277] Trial 38 finished with value: 0.79064039408867 and parameters: {'n_estimators': 150, 'max_depth': 7, 'learning_rate': 0.15239736714910276, 'subsample': 0.9733833594011011, 'colsample_bytree': 0.6875855108308268, 'gamma': 6.348462334210524, 'lambda': 5.384585680313448, 'alpha': 2.845374052485214}. Best is trial 18 with value: 0.825615763546798.\n",
            "[I 2025-07-08 18:32:41,572] Trial 39 finished with value: 0.7630541871921181 and parameters: {'n_estimators': 250, 'max_depth': 11, 'learning_rate': 0.05472592089128819, 'subsample': 0.9362627340458696, 'colsample_bytree': 0.9795150244994064, 'gamma': 2.9463686584838515, 'lambda': 1.908472095269016, 'alpha': 9.974806498106815}. Best is trial 18 with value: 0.825615763546798.\n",
            "[I 2025-07-08 18:32:42,272] Trial 40 finished with value: 0.7694581280788177 and parameters: {'n_estimators': 700, 'max_depth': 10, 'learning_rate': 0.19772412609675563, 'subsample': 0.5137110881359707, 'colsample_bytree': 0.9007168805242519, 'gamma': 7.119745178881022, 'lambda': 2.906867509823532, 'alpha': 2.12831361956639}. Best is trial 18 with value: 0.825615763546798.\n",
            "[I 2025-07-08 18:32:42,434] Trial 41 finished with value: 0.8184729064039409 and parameters: {'n_estimators': 100, 'max_depth': 10, 'learning_rate': 0.23424640488861181, 'subsample': 0.9386281102824485, 'colsample_bytree': 0.9372209422123717, 'gamma': 5.038474488931618, 'lambda': 0.36236865645512906, 'alpha': 0.5900189582162322}. Best is trial 18 with value: 0.825615763546798.\n",
            "[I 2025-07-08 18:32:42,585] Trial 42 finished with value: 0.8113300492610838 and parameters: {'n_estimators': 100, 'max_depth': 11, 'learning_rate': 0.29513713921782186, 'subsample': 0.9450271780071289, 'colsample_bytree': 0.9635073693715949, 'gamma': 4.006417889876653, 'lambda': 0.8562833669545267, 'alpha': 2.439208414200395}. Best is trial 18 with value: 0.825615763546798.\n",
            "[I 2025-07-08 18:32:42,815] Trial 43 finished with value: 0.8044334975369459 and parameters: {'n_estimators': 150, 'max_depth': 9, 'learning_rate': 0.19910244910426983, 'subsample': 0.978902224930923, 'colsample_bytree': 0.9285931409967465, 'gamma': 5.5370237195185705, 'lambda': 0.48712695289489716, 'alpha': 1.9396953887527946}. Best is trial 18 with value: 0.825615763546798.\n",
            "[I 2025-07-08 18:32:43,056] Trial 44 finished with value: 0.8184729064039409 and parameters: {'n_estimators': 200, 'max_depth': 8, 'learning_rate': 0.1823589146269604, 'subsample': 0.9993020632560654, 'colsample_bytree': 0.5248416305326007, 'gamma': 3.6811186091297246, 'lambda': 0.015390034225572835, 'alpha': 0.6700957836053563}. Best is trial 18 with value: 0.825615763546798.\n",
            "[I 2025-07-08 18:32:43,216] Trial 45 finished with value: 0.7832512315270936 and parameters: {'n_estimators': 100, 'max_depth': 10, 'learning_rate': 0.20766254367163256, 'subsample': 0.7145063523736466, 'colsample_bytree': 0.9814648600600092, 'gamma': 5.016502394483204, 'lambda': 1.3249425234498224, 'alpha': 3.8625297927975337}. Best is trial 18 with value: 0.825615763546798.\n",
            "[I 2025-07-08 18:32:45,731] Trial 46 finished with value: 0.8044334975369459 and parameters: {'n_estimators': 1000, 'max_depth': 11, 'learning_rate': 0.16544563431593134, 'subsample': 0.8529983476650602, 'colsample_bytree': 0.8465970329997461, 'gamma': 5.905471683077668, 'lambda': 2.039869182384233, 'alpha': 1.2855435871673482}. Best is trial 18 with value: 0.825615763546798.\n",
            "[I 2025-07-08 18:32:46,271] Trial 47 finished with value: 0.8044334975369459 and parameters: {'n_estimators': 150, 'max_depth': 8, 'learning_rate': 0.11945738527761007, 'subsample': 0.8901603471179742, 'colsample_bytree': 0.8780840215831992, 'gamma': 7.932470859300848, 'lambda': 1.526835356502116, 'alpha': 2.6217069115513087}. Best is trial 18 with value: 0.825615763546798.\n",
            "[I 2025-07-08 18:32:47,283] Trial 48 finished with value: 0.804679802955665 and parameters: {'n_estimators': 500, 'max_depth': 4, 'learning_rate': 0.09781156278929465, 'subsample': 0.6163904905725835, 'colsample_bytree': 0.8093463218250179, 'gamma': 4.639304023525064, 'lambda': 0.32812965727008514, 'alpha': 0.35690166002968193}. Best is trial 18 with value: 0.825615763546798.\n",
            "[I 2025-07-08 18:32:47,489] Trial 49 finished with value: 0.79064039408867 and parameters: {'n_estimators': 100, 'max_depth': 7, 'learning_rate': 0.25677802354726253, 'subsample': 0.7560223459130943, 'colsample_bytree': 0.9967879700460669, 'gamma': 5.446450467883358, 'lambda': 7.189158229435382, 'alpha': 1.6290966244320035}. Best is trial 18 with value: 0.825615763546798.\n",
            "[I 2025-07-08 18:32:47,864] Trial 50 finished with value: 0.7908866995073891 and parameters: {'n_estimators': 250, 'max_depth': 9, 'learning_rate': 0.08315100109076802, 'subsample': 0.910761725353892, 'colsample_bytree': 0.9504115466910604, 'gamma': 2.8118604849292774, 'lambda': 0.9119604464360702, 'alpha': 3.1411910253560373}. Best is trial 18 with value: 0.825615763546798.\n",
            "[I 2025-07-08 18:32:48,061] Trial 51 finished with value: 0.8187192118226599 and parameters: {'n_estimators': 100, 'max_depth': 10, 'learning_rate': 0.22987967251196895, 'subsample': 0.9565666450567825, 'colsample_bytree': 0.9298135868146733, 'gamma': 4.257546364639499, 'lambda': 0.3239400870315846, 'alpha': 0.5201329537761803}. Best is trial 18 with value: 0.825615763546798.\n",
            "[I 2025-07-08 18:32:48,226] Trial 52 finished with value: 0.811576354679803 and parameters: {'n_estimators': 100, 'max_depth': 11, 'learning_rate': 0.23463373189709447, 'subsample': 0.9814542235504109, 'colsample_bytree': 0.9147490211987208, 'gamma': 3.5770751062384063, 'lambda': 0.29090556408514734, 'alpha': 0.007324495346354959}. Best is trial 18 with value: 0.825615763546798.\n",
            "[I 2025-07-08 18:32:48,494] Trial 53 finished with value: 0.8253694581280788 and parameters: {'n_estimators': 200, 'max_depth': 10, 'learning_rate': 0.18610189182538991, 'subsample': 0.9534100009613038, 'colsample_bytree': 0.97034282579692, 'gamma': 4.364052834650191, 'lambda': 0.7151489171104376, 'alpha': 0.8974519688576712}. Best is trial 18 with value: 0.825615763546798.\n",
            "[I 2025-07-08 18:32:48,776] Trial 54 finished with value: 0.8184729064039409 and parameters: {'n_estimators': 200, 'max_depth': 12, 'learning_rate': 0.27515911520143055, 'subsample': 0.9615264372487137, 'colsample_bytree': 0.9655678225760327, 'gamma': 4.247779074995641, 'lambda': 1.4181154012727344, 'alpha': 1.0256018455762799}. Best is trial 18 with value: 0.825615763546798.\n",
            "[I 2025-07-08 18:32:49,161] Trial 55 finished with value: 0.8113300492610838 and parameters: {'n_estimators': 300, 'max_depth': 9, 'learning_rate': 0.1838548542579948, 'subsample': 0.9277397697694743, 'colsample_bytree': 0.9935200770958778, 'gamma': 1.959529836567877, 'lambda': 0.9675252137031691, 'alpha': 0.4990024319943996}. Best is trial 18 with value: 0.825615763546798.\n",
            "[I 2025-07-08 18:32:49,347] Trial 56 finished with value: 0.8044334975369459 and parameters: {'n_estimators': 150, 'max_depth': 11, 'learning_rate': 0.22545299089460277, 'subsample': 0.9834383452821182, 'colsample_bytree': 0.5678368560356328, 'gamma': 4.548140813111644, 'lambda': 2.049110145349308, 'alpha': 0.8184897060741663}. Best is trial 18 with value: 0.825615763546798.\n",
            "[I 2025-07-08 18:32:49,629] Trial 57 finished with value: 0.8184729064039409 and parameters: {'n_estimators': 200, 'max_depth': 8, 'learning_rate': 0.04444152161859467, 'subsample': 0.9628236815619443, 'colsample_bytree': 0.9258121648288208, 'gamma': 5.71864693789658, 'lambda': 0.7039636008193074, 'alpha': 0.28206782607147995}. Best is trial 18 with value: 0.825615763546798.\n",
            "[I 2025-07-08 18:32:49,958] Trial 58 finished with value: 0.8322660098522168 and parameters: {'n_estimators': 250, 'max_depth': 6, 'learning_rate': 0.1461879488933489, 'subsample': 0.9995673874336457, 'colsample_bytree': 0.8854798489467798, 'gamma': 3.902148807783618, 'lambda': 0.03835243695723767, 'alpha': 1.3378239817217397}. Best is trial 58 with value: 0.8322660098522168.\n",
            "[I 2025-07-08 18:32:50,258] Trial 59 finished with value: 0.7972906403940886 and parameters: {'n_estimators': 250, 'max_depth': 5, 'learning_rate': 0.14627003081718504, 'subsample': 0.689782552251125, 'colsample_bytree': 0.8634582902347904, 'gamma': 3.80751719722492, 'lambda': 0.222470690506268, 'alpha': 1.046904737128142}. Best is trial 58 with value: 0.8322660098522168.\n",
            "[I 2025-07-08 18:32:50,468] Trial 60 finished with value: 0.8044334975369459 and parameters: {'n_estimators': 150, 'max_depth': 6, 'learning_rate': 0.13588552975146986, 'subsample': 0.9993557568215182, 'colsample_bytree': 0.9589404365439633, 'gamma': 4.152871211756401, 'lambda': 6.229753869800905, 'alpha': 1.2647630967084516}. Best is trial 58 with value: 0.8322660098522168.\n",
            "[I 2025-07-08 18:32:50,706] Trial 61 finished with value: 0.8187192118226599 and parameters: {'n_estimators': 200, 'max_depth': 6, 'learning_rate': 0.16972028178881698, 'subsample': 0.9822216964606596, 'colsample_bytree': 0.9023225723693903, 'gamma': 3.1807420428231805, 'lambda': 0.05307151422783757, 'alpha': 1.6913208866213019}. Best is trial 58 with value: 0.8322660098522168.\n",
            "[I 2025-07-08 18:32:51,084] Trial 62 finished with value: 0.8184729064039409 and parameters: {'n_estimators': 250, 'max_depth': 6, 'learning_rate': 0.07645750653845114, 'subsample': 0.9821939881601358, 'colsample_bytree': 0.9067436421481232, 'gamma': 3.4258512082253834, 'lambda': 0.671044276597686, 'alpha': 0.8068058792782786}. Best is trial 58 with value: 0.8322660098522168.\n",
            "[I 2025-07-08 18:32:51,315] Trial 63 finished with value: 0.8044334975369457 and parameters: {'n_estimators': 150, 'max_depth': 7, 'learning_rate': 0.17116115167617887, 'subsample': 0.9506173045863917, 'colsample_bytree': 0.8745738386336971, 'gamma': 2.9228133547459914, 'lambda': 0.017344903057809002, 'alpha': 1.464349965739017}. Best is trial 58 with value: 0.8322660098522168.\n",
            "[I 2025-07-08 18:32:51,727] Trial 64 finished with value: 0.811576354679803 and parameters: {'n_estimators': 350, 'max_depth': 6, 'learning_rate': 0.15801174168614918, 'subsample': 0.9999766882667984, 'colsample_bytree': 0.9733925930676824, 'gamma': 0.5145040912402363, 'lambda': 0.9954918086498945, 'alpha': 0.23203199222915716}. Best is trial 58 with value: 0.8322660098522168.\n",
            "[I 2025-07-08 18:32:52,037] Trial 65 finished with value: 0.8187192118226602 and parameters: {'n_estimators': 200, 'max_depth': 7, 'learning_rate': 0.06044252525250535, 'subsample': 0.9757286191414769, 'colsample_bytree': 0.9041270047478447, 'gamma': 3.235013268410683, 'lambda': 0.01237613410429185, 'alpha': 0.4461846621324107}. Best is trial 58 with value: 0.8322660098522168.\n",
            "[I 2025-07-08 18:32:52,343] Trial 66 finished with value: 0.8253694581280788 and parameters: {'n_estimators': 200, 'max_depth': 7, 'learning_rate': 0.06021040065933349, 'subsample': 0.9737005325471735, 'colsample_bytree': 0.9335951398517366, 'gamma': 2.478082080746851, 'lambda': 0.5843507661826399, 'alpha': 2.1735675858850514}. Best is trial 58 with value: 0.8322660098522168.\n",
            "[I 2025-07-08 18:32:53,245] Trial 67 finished with value: 0.7975369458128079 and parameters: {'n_estimators': 850, 'max_depth': 7, 'learning_rate': 0.05952720088363002, 'subsample': 0.9026405178488437, 'colsample_bytree': 0.9366296687000791, 'gamma': 2.4064643453336383, 'lambda': 8.962079222613944, 'alpha': 2.2453291863344145}. Best is trial 58 with value: 0.8322660098522168.\n",
            "[I 2025-07-08 18:32:53,613] Trial 68 finished with value: 0.825615763546798 and parameters: {'n_estimators': 200, 'max_depth': 7, 'learning_rate': 0.02604590492839043, 'subsample': 0.9714156872001615, 'colsample_bytree': 0.9465026734933869, 'gamma': 1.9062281308608964, 'lambda': 0.6411018001363052, 'alpha': 0.848065826493839}. Best is trial 58 with value: 0.8322660098522168.\n",
            "[I 2025-07-08 18:32:54,222] Trial 69 finished with value: 0.8184729064039409 and parameters: {'n_estimators': 400, 'max_depth': 7, 'learning_rate': 0.02656024999325941, 'subsample': 0.9719291596465496, 'colsample_bytree': 0.947216874522992, 'gamma': 1.088860967346923, 'lambda': 1.2110541977789286, 'alpha': 1.0404809172525964}. Best is trial 58 with value: 0.8322660098522168.\n",
            "[I 2025-07-08 18:32:54,566] Trial 70 finished with value: 0.8118226600985221 and parameters: {'n_estimators': 200, 'max_depth': 7, 'learning_rate': 0.03702050408933155, 'subsample': 0.9269747611980061, 'colsample_bytree': 0.9862150113205355, 'gamma': 1.8963715125323586, 'lambda': 1.5745815025071317, 'alpha': 4.664775458967329}. Best is trial 58 with value: 0.8322660098522168.\n",
            "[I 2025-07-08 18:32:55,054] Trial 71 finished with value: 0.8253694581280788 and parameters: {'n_estimators': 200, 'max_depth': 6, 'learning_rate': 0.011175476311058937, 'subsample': 0.960132122999906, 'colsample_bytree': 0.9192014999013199, 'gamma': 1.9584461919621994, 'lambda': 0.5884205979672016, 'alpha': 0.6006236840567245}. Best is trial 58 with value: 0.8322660098522168.\n",
            "[I 2025-07-08 18:32:55,887] Trial 72 finished with value: 0.825615763546798 and parameters: {'n_estimators': 300, 'max_depth': 6, 'learning_rate': 0.010940110252580938, 'subsample': 0.9858130364080071, 'colsample_bytree': 0.9472369345188298, 'gamma': 1.1607439880351929, 'lambda': 0.6398762121732227, 'alpha': 1.3439700755841122}. Best is trial 58 with value: 0.8322660098522168.\n",
            "[I 2025-07-08 18:32:56,495] Trial 73 finished with value: 0.825615763546798 and parameters: {'n_estimators': 300, 'max_depth': 5, 'learning_rate': 0.014284687334245566, 'subsample': 0.965062408292766, 'colsample_bytree': 0.9533784244417836, 'gamma': 1.066687192955986, 'lambda': 0.602802674839368, 'alpha': 1.48318920853739}. Best is trial 58 with value: 0.8322660098522168.\n",
            "[I 2025-07-08 18:32:57,052] Trial 74 finished with value: 0.8118226600985221 and parameters: {'n_estimators': 300, 'max_depth': 4, 'learning_rate': 0.01913803795464518, 'subsample': 0.9880906818131262, 'colsample_bytree': 0.9533359660158737, 'gamma': 0.9533275141459292, 'lambda': 1.030994987222168, 'alpha': 2.0086898066445613}. Best is trial 58 with value: 0.8322660098522168.\n",
            "[I 2025-07-08 18:32:58,602] Trial 75 finished with value: 0.825615763546798 and parameters: {'n_estimators': 350, 'max_depth': 5, 'learning_rate': 0.0481762727573445, 'subsample': 0.9886066432118052, 'colsample_bytree': 0.9462678199131727, 'gamma': 0.4924257630427684, 'lambda': 0.8329932744794495, 'alpha': 1.5131610280798302}. Best is trial 58 with value: 0.8322660098522168.\n",
            "[I 2025-07-08 18:33:00,517] Trial 76 finished with value: 0.825615763546798 and parameters: {'n_estimators': 350, 'max_depth': 5, 'learning_rate': 0.037234824341861386, 'subsample': 0.9925243629607191, 'colsample_bytree': 0.9696392392265318, 'gamma': 0.5870827224834632, 'lambda': 1.3160690034941975, 'alpha': 1.51777749143803}. Best is trial 58 with value: 0.8322660098522168.\n",
            "[I 2025-07-08 18:33:01,113] Trial 77 finished with value: 0.8325123152709359 and parameters: {'n_estimators': 400, 'max_depth': 5, 'learning_rate': 0.03622376258660971, 'subsample': 0.98804658236608, 'colsample_bytree': 0.999079290518202, 'gamma': 0.3543110067611578, 'lambda': 2.3002717194170788, 'alpha': 1.3897735910883406}. Best is trial 77 with value: 0.8325123152709359.\n",
            "[I 2025-07-08 18:33:01,821] Trial 78 finished with value: 0.825615763546798 and parameters: {'n_estimators': 450, 'max_depth': 5, 'learning_rate': 0.03396466534653904, 'subsample': 0.9958821435898769, 'colsample_bytree': 0.9833100538161929, 'gamma': 0.34698062504572846, 'lambda': 2.2511837469603657, 'alpha': 1.4864049303040752}. Best is trial 77 with value: 0.8325123152709359.\n",
            "[I 2025-07-08 18:33:02,235] Trial 79 finished with value: 0.8187192118226602 and parameters: {'n_estimators': 350, 'max_depth': 4, 'learning_rate': 0.022137966826572236, 'subsample': 0.9333464889690294, 'colsample_bytree': 0.769020929130425, 'gamma': 0.821388121042218, 'lambda': 1.640658765452823, 'alpha': 6.972417533445851}. Best is trial 77 with value: 0.8325123152709359.\n",
            "[I 2025-07-08 18:33:02,768] Trial 80 finished with value: 0.7975369458128079 and parameters: {'n_estimators': 400, 'max_depth': 3, 'learning_rate': 0.04638751884553823, 'subsample': 0.9137056985823344, 'colsample_bytree': 0.9480649632890191, 'gamma': 1.4547603962333775, 'lambda': 1.3386601830637535, 'alpha': 1.785879564692415}. Best is trial 77 with value: 0.8325123152709359.\n",
            "[I 2025-07-08 18:33:03,468] Trial 81 finished with value: 0.825615763546798 and parameters: {'n_estimators': 450, 'max_depth': 5, 'learning_rate': 0.03704152916895373, 'subsample': 0.9888116209835787, 'colsample_bytree': 0.9815688483176407, 'gamma': 0.3348249753767222, 'lambda': 3.148124702728934, 'alpha': 1.3327100975411543}. Best is trial 77 with value: 0.8325123152709359.\n",
            "[I 2025-07-08 18:33:04,428] Trial 82 finished with value: 0.8049261083743842 and parameters: {'n_estimators': 450, 'max_depth': 5, 'learning_rate': 0.029470906541267633, 'subsample': 0.9935701409328385, 'colsample_bytree': 0.9646330032350404, 'gamma': 0.022184991504956175, 'lambda': 2.320869691002656, 'alpha': 1.504107249986873}. Best is trial 77 with value: 0.8325123152709359.\n",
            "[I 2025-07-08 18:33:05,110] Trial 83 finished with value: 0.8258620689655171 and parameters: {'n_estimators': 350, 'max_depth': 5, 'learning_rate': 0.015481421913749878, 'subsample': 0.9677913282621472, 'colsample_bytree': 0.9983233620436065, 'gamma': 0.6289898104668825, 'lambda': 2.5930501195369713, 'alpha': 2.952862904023651}. Best is trial 77 with value: 0.8325123152709359.\n",
            "[I 2025-07-08 18:33:05,891] Trial 84 finished with value: 0.8187192118226602 and parameters: {'n_estimators': 350, 'max_depth': 5, 'learning_rate': 0.012011196669094538, 'subsample': 0.9654591300693223, 'colsample_bytree': 0.9951682796041307, 'gamma': 0.5636911196129768, 'lambda': 1.2020423803374918, 'alpha': 2.7193557853223873}. Best is trial 77 with value: 0.8325123152709359.\n",
            "[I 2025-07-08 18:33:06,427] Trial 85 finished with value: 0.797783251231527 and parameters: {'n_estimators': 400, 'max_depth': 4, 'learning_rate': 0.019367713180618185, 'subsample': 0.9372833376897456, 'colsample_bytree': 0.9986737153771807, 'gamma': 1.2468263801315724, 'lambda': 4.473577383485617, 'alpha': 2.9834810740573876}. Best is trial 77 with value: 0.8325123152709359.\n",
            "[I 2025-07-08 18:33:07,042] Trial 86 finished with value: 0.804679802955665 and parameters: {'n_estimators': 500, 'max_depth': 5, 'learning_rate': 0.051570374846740874, 'subsample': 0.9462125605814001, 'colsample_bytree': 0.9576546695539102, 'gamma': 1.670953044155012, 'lambda': 1.6214275135388294, 'alpha': 2.422643645431503}. Best is trial 77 with value: 0.8325123152709359.\n",
            "[I 2025-07-08 18:33:07,458] Trial 87 finished with value: 0.8187192118226602 and parameters: {'n_estimators': 300, 'max_depth': 5, 'learning_rate': 0.04228569417204436, 'subsample': 0.9698752899034714, 'colsample_bytree': 0.9708376013509531, 'gamma': 0.7465467556016523, 'lambda': 2.4975185395962605, 'alpha': 1.86195024437237}. Best is trial 77 with value: 0.8325123152709359.\n",
            "[I 2025-07-08 18:33:07,997] Trial 88 finished with value: 0.8187192118226602 and parameters: {'n_estimators': 300, 'max_depth': 6, 'learning_rate': 0.025183525007689674, 'subsample': 0.9820227688116201, 'colsample_bytree': 0.8843458283894414, 'gamma': 1.1991635000884173, 'lambda': 1.7875329602777241, 'alpha': 1.1981105434686714}. Best is trial 77 with value: 0.8325123152709359.\n",
            "[I 2025-07-08 18:33:08,818] Trial 89 finished with value: 0.804679802955665 and parameters: {'n_estimators': 350, 'max_depth': 5, 'learning_rate': 0.01003875951652949, 'subsample': 0.8145890590686851, 'colsample_bytree': 0.8468963995533687, 'gamma': 0.32233896409106333, 'lambda': 0.7995531722980057, 'alpha': 3.482427928949996}. Best is trial 77 with value: 0.8325123152709359.\n",
            "[I 2025-07-08 18:33:09,408] Trial 90 finished with value: 0.8187192118226602 and parameters: {'n_estimators': 250, 'max_depth': 6, 'learning_rate': 0.016057985671950416, 'subsample': 0.9520737506739481, 'colsample_bytree': 0.9469054308819506, 'gamma': 0.6829549518277245, 'lambda': 1.1113638724578576, 'alpha': 2.0336021476074566}. Best is trial 77 with value: 0.8325123152709359.\n",
            "[I 2025-07-08 18:33:10,240] Trial 91 finished with value: 0.8118226600985221 and parameters: {'n_estimators': 500, 'max_depth': 5, 'learning_rate': 0.034106945800325784, 'subsample': 0.9893623384778334, 'colsample_bytree': 0.9845061444334244, 'gamma': 0.31755234366826435, 'lambda': 2.7218446089994517, 'alpha': 1.6261484530217156}. Best is trial 77 with value: 0.8325123152709359.\n",
            "[I 2025-07-08 18:33:11,607] Trial 92 finished with value: 0.8118226600985221 and parameters: {'n_estimators': 350, 'max_depth': 5, 'learning_rate': 0.03089931648161635, 'subsample': 0.997774017470366, 'colsample_bytree': 0.9744560415497312, 'gamma': 0.9515208260546826, 'lambda': 3.6588133917086796, 'alpha': 1.4485780271701652}. Best is trial 77 with value: 0.8325123152709359.\n",
            "[I 2025-07-08 18:33:13,887] Trial 93 finished with value: 0.8187192118226602 and parameters: {'n_estimators': 400, 'max_depth': 4, 'learning_rate': 0.05207315153285681, 'subsample': 0.9678019081943219, 'colsample_bytree': 0.9888312914620531, 'gamma': 0.18255584325907903, 'lambda': 2.190066029850041, 'alpha': 2.3692333207636773}. Best is trial 77 with value: 0.8325123152709359.\n",
            "[I 2025-07-08 18:33:14,481] Trial 94 finished with value: 0.804679802955665 and parameters: {'n_estimators': 450, 'max_depth': 5, 'learning_rate': 0.0665206704074641, 'subsample': 0.9877909254507637, 'colsample_bytree': 0.9438627027405221, 'gamma': 1.4830401228357204, 'lambda': 0.2665136513777085, 'alpha': 3.912083560633791}. Best is trial 77 with value: 0.8325123152709359.\n",
            "[I 2025-07-08 18:33:15,258] Trial 95 finished with value: 0.825615763546798 and parameters: {'n_estimators': 350, 'max_depth': 6, 'learning_rate': 0.021981441387601185, 'subsample': 0.9749702010411676, 'colsample_bytree': 0.9602042648872241, 'gamma': 0.5148256148432075, 'lambda': 1.4149967289417869, 'alpha': 0.7846967025522323}. Best is trial 77 with value: 0.8325123152709359.\n",
            "[I 2025-07-08 18:33:15,803] Trial 96 finished with value: 0.811576354679803 and parameters: {'n_estimators': 400, 'max_depth': 6, 'learning_rate': 0.04082465506156608, 'subsample': 0.9597569222296023, 'colsample_bytree': 0.9207916296126528, 'gamma': 0.9980431964476086, 'lambda': 4.044586868293385, 'alpha': 1.1523639403855532}. Best is trial 77 with value: 0.8325123152709359.\n",
            "[I 2025-07-08 18:33:16,225] Trial 97 finished with value: 0.8184729064039409 and parameters: {'n_estimators': 300, 'max_depth': 4, 'learning_rate': 0.033393233210293714, 'subsample': 0.94410597942533, 'colsample_bytree': 0.9997732856581181, 'gamma': 1.3354645913481358, 'lambda': 1.8744972918478173, 'alpha': 1.7602401470488631}. Best is trial 77 with value: 0.8325123152709359.\n",
            "[I 2025-07-08 18:33:16,623] Trial 98 finished with value: 0.804679802955665 and parameters: {'n_estimators': 250, 'max_depth': 5, 'learning_rate': 0.04690845562780925, 'subsample': 0.9918197003795137, 'colsample_bytree': 0.9748899648025219, 'gamma': 1.6698180073825994, 'lambda': 0.5063301032233567, 'alpha': 5.490419667845167}. Best is trial 77 with value: 0.8325123152709359.\n",
            "[I 2025-07-08 18:33:17,435] Trial 99 finished with value: 0.7903940886699508 and parameters: {'n_estimators': 400, 'max_depth': 6, 'learning_rate': 0.026953793475084174, 'subsample': 0.598467438226725, 'colsample_bytree': 0.6604884926355716, 'gamma': 0.01908327861164061, 'lambda': 2.533692397254268, 'alpha': 0.9589582700365236}. Best is trial 77 with value: 0.8325123152709359.\n"
          ]
        },
        {
          "output_type": "stream",
          "name": "stdout",
          "text": [
            "\n",
            "XGBoost Optimization Finished.\n",
            "Best trial score: 0.8325\n",
            "Best parameters found:  {'n_estimators': 400, 'max_depth': 5, 'learning_rate': 0.03622376258660971, 'subsample': 0.98804658236608, 'colsample_bytree': 0.999079290518202, 'gamma': 0.3543110067611578, 'lambda': 2.3002717194170788, 'alpha': 1.3897735910883406}\n"
          ]
        }
      ]
    },
    {
      "cell_type": "code",
      "source": [
        "from sklearn.svm import SVC\n",
        "\n",
        "def objective_svm(trial):\n",
        "    \"\"\"Optuna objective function to find best SVM params.\"\"\"\n",
        "    param = {\n",
        "        'C': trial.suggest_float('C', 0.1, 100, log=True),\n",
        "        'kernel': trial.suggest_categorical('kernel', ['rbf', 'poly', 'sigmoid']),\n",
        "        'gamma': trial.suggest_categorical('gamma', ['scale', 'auto']),\n",
        "        'degree': trial.suggest_int('degree', 2, 5), # Only used for 'poly' kernel\n",
        "        'random_state': 42\n",
        "    }\n",
        "    model = SVC(**param, probability=True)\n",
        "    cv = StratifiedKFold(n_splits=5, shuffle=True, random_state=42)\n",
        "    score = cross_val_score(model, X_train_scaled, y_train, cv=cv, scoring='accuracy').mean()\n",
        "    return score\n",
        "\n",
        "print(\"\\n--- 2. Starting Hyperparameter Optimization for SVM ---\")\n",
        "study_svm = optuna.create_study(direction='maximize')\n",
        "study_svm.optimize(objective_svm, n_trials=100, timeout=600)\n",
        "\n",
        "print(\"\\nSVM Optimization Finished.\")\n",
        "print(\"Best trial score: {:.4f}\".format(study_svm.best_value))\n",
        "print(\"Best parameters found: \", study_svm.best_params)\n",
        "best_params_svm = study_svm.best_params"
      ],
      "metadata": {
        "colab": {
          "base_uri": "https://localhost:8080/"
        },
        "id": "gNAn9SSeRCeB",
        "outputId": "e5cbb0be-56a0-48a9-ec08-cdbe722473a6"
      },
      "execution_count": 50,
      "outputs": [
        {
          "output_type": "stream",
          "name": "stderr",
          "text": [
            "[I 2025-07-08 18:27:29,884] A new study created in memory with name: no-name-869efea7-1d70-42ac-bb16-3614687b05b1\n",
            "[I 2025-07-08 18:27:29,982] Trial 0 finished with value: 0.7436720142602494 and parameters: {'C': 42.34056306696553, 'kernel': 'poly', 'gamma': 'auto', 'degree': 2}. Best is trial 0 with value: 0.7436720142602494.\n",
            "[I 2025-07-08 18:27:30,032] Trial 1 finished with value: 0.809625668449198 and parameters: {'C': 0.7782920386516442, 'kernel': 'rbf', 'gamma': 'auto', 'degree': 5}. Best is trial 1 with value: 0.809625668449198.\n"
          ]
        },
        {
          "output_type": "stream",
          "name": "stdout",
          "text": [
            "\n",
            "--- 2. Starting Hyperparameter Optimization for SVM ---\n"
          ]
        },
        {
          "output_type": "stream",
          "name": "stderr",
          "text": [
            "[I 2025-07-08 18:27:30,086] Trial 2 finished with value: 0.8449197860962567 and parameters: {'C': 31.60770340036929, 'kernel': 'rbf', 'gamma': 'scale', 'degree': 5}. Best is trial 2 with value: 0.8449197860962567.\n",
            "[I 2025-07-08 18:27:30,134] Trial 3 finished with value: 0.7855614973262032 and parameters: {'C': 0.17045907810446304, 'kernel': 'rbf', 'gamma': 'auto', 'degree': 4}. Best is trial 2 with value: 0.8449197860962567.\n",
            "[I 2025-07-08 18:27:30,178] Trial 4 finished with value: 0.7263814616755793 and parameters: {'C': 2.6901043014142427, 'kernel': 'sigmoid', 'gamma': 'scale', 'degree': 5}. Best is trial 2 with value: 0.8449197860962567.\n",
            "[I 2025-07-08 18:27:30,232] Trial 5 finished with value: 0.7855614973262032 and parameters: {'C': 23.352477510061245, 'kernel': 'poly', 'gamma': 'scale', 'degree': 4}. Best is trial 2 with value: 0.8449197860962567.\n",
            "[I 2025-07-08 18:27:30,288] Trial 6 finished with value: 0.7975044563279857 and parameters: {'C': 0.17575686579544902, 'kernel': 'rbf', 'gamma': 'auto', 'degree': 5}. Best is trial 2 with value: 0.8449197860962567.\n",
            "[I 2025-07-08 18:27:30,331] Trial 7 finished with value: 0.7080213903743315 and parameters: {'C': 1.7048202032474487, 'kernel': 'poly', 'gamma': 'auto', 'degree': 2}. Best is trial 2 with value: 0.8449197860962567.\n",
            "[I 2025-07-08 18:27:30,400] Trial 8 finished with value: 0.8568627450980392 and parameters: {'C': 53.99780842882665, 'kernel': 'rbf', 'gamma': 'scale', 'degree': 3}. Best is trial 8 with value: 0.8568627450980392.\n",
            "[I 2025-07-08 18:27:30,486] Trial 9 finished with value: 0.7083778966131907 and parameters: {'C': 49.402423611872514, 'kernel': 'sigmoid', 'gamma': 'auto', 'degree': 5}. Best is trial 8 with value: 0.8568627450980392.\n",
            "[I 2025-07-08 18:27:30,565] Trial 10 finished with value: 0.839572192513369 and parameters: {'C': 10.804394404996218, 'kernel': 'rbf', 'gamma': 'scale', 'degree': 3}. Best is trial 8 with value: 0.8568627450980392.\n",
            "[I 2025-07-08 18:27:30,640] Trial 11 finished with value: 0.8568627450980392 and parameters: {'C': 91.76347780014744, 'kernel': 'rbf', 'gamma': 'scale', 'degree': 3}. Best is trial 8 with value: 0.8568627450980392.\n",
            "[I 2025-07-08 18:27:30,709] Trial 12 finished with value: 0.8568627450980392 and parameters: {'C': 91.0885816095046, 'kernel': 'rbf', 'gamma': 'scale', 'degree': 3}. Best is trial 8 with value: 0.8568627450980392.\n",
            "[I 2025-07-08 18:27:30,768] Trial 13 finished with value: 0.839572192513369 and parameters: {'C': 7.854844249473204, 'kernel': 'rbf', 'gamma': 'scale', 'degree': 3}. Best is trial 8 with value: 0.8568627450980392.\n",
            "[I 2025-07-08 18:27:30,827] Trial 14 finished with value: 0.839572192513369 and parameters: {'C': 9.76572189515849, 'kernel': 'rbf', 'gamma': 'scale', 'degree': 3}. Best is trial 8 with value: 0.8568627450980392.\n",
            "[I 2025-07-08 18:27:30,887] Trial 15 finished with value: 0.7024955436720143 and parameters: {'C': 97.07536677084605, 'kernel': 'sigmoid', 'gamma': 'scale', 'degree': 2}. Best is trial 8 with value: 0.8568627450980392.\n",
            "[I 2025-07-08 18:27:30,962] Trial 16 finished with value: 0.8270944741532977 and parameters: {'C': 18.469723140106442, 'kernel': 'rbf', 'gamma': 'scale', 'degree': 4}. Best is trial 8 with value: 0.8568627450980392.\n",
            "[I 2025-07-08 18:27:31,025] Trial 17 finished with value: 0.8454545454545455 and parameters: {'C': 5.130188858183765, 'kernel': 'rbf', 'gamma': 'scale', 'degree': 3}. Best is trial 8 with value: 0.8568627450980392.\n",
            "[I 2025-07-08 18:27:31,092] Trial 18 finished with value: 0.7024955436720142 and parameters: {'C': 0.670948012911664, 'kernel': 'poly', 'gamma': 'scale', 'degree': 4}. Best is trial 8 with value: 0.8568627450980392.\n",
            "[I 2025-07-08 18:27:31,148] Trial 19 finished with value: 0.7142602495543672 and parameters: {'C': 67.03144184117743, 'kernel': 'sigmoid', 'gamma': 'scale', 'degree': 2}. Best is trial 8 with value: 0.8568627450980392.\n",
            "[I 2025-07-08 18:27:31,213] Trial 20 finished with value: 0.8270944741532977 and parameters: {'C': 20.415035326646866, 'kernel': 'rbf', 'gamma': 'scale', 'degree': 3}. Best is trial 8 with value: 0.8568627450980392.\n",
            "[I 2025-07-08 18:27:31,296] Trial 21 finished with value: 0.8568627450980392 and parameters: {'C': 90.33623168586918, 'kernel': 'rbf', 'gamma': 'scale', 'degree': 3}. Best is trial 8 with value: 0.8568627450980392.\n",
            "[I 2025-07-08 18:27:31,367] Trial 22 finished with value: 0.8627450980392156 and parameters: {'C': 49.369035288974565, 'kernel': 'rbf', 'gamma': 'scale', 'degree': 3}. Best is trial 22 with value: 0.8627450980392156.\n",
            "[I 2025-07-08 18:27:31,440] Trial 23 finished with value: 0.8568627450980392 and parameters: {'C': 40.671070892248885, 'kernel': 'rbf', 'gamma': 'scale', 'degree': 3}. Best is trial 22 with value: 0.8627450980392156.\n",
            "[I 2025-07-08 18:27:31,506] Trial 24 finished with value: 0.8151515151515152 and parameters: {'C': 14.918826967496818, 'kernel': 'rbf', 'gamma': 'scale', 'degree': 4}. Best is trial 22 with value: 0.8627450980392156.\n",
            "[I 2025-07-08 18:27:31,577] Trial 25 finished with value: 0.8568627450980392 and parameters: {'C': 51.67461525736447, 'kernel': 'rbf', 'gamma': 'scale', 'degree': 2}. Best is trial 22 with value: 0.8627450980392156.\n",
            "[I 2025-07-08 18:27:31,648] Trial 26 finished with value: 0.8329768270944742 and parameters: {'C': 26.526767511914645, 'kernel': 'rbf', 'gamma': 'scale', 'degree': 3}. Best is trial 22 with value: 0.8627450980392156.\n",
            "[I 2025-07-08 18:27:31,714] Trial 27 finished with value: 0.8454545454545455 and parameters: {'C': 4.369575279611893, 'kernel': 'rbf', 'gamma': 'scale', 'degree': 4}. Best is trial 22 with value: 0.8627450980392156.\n",
            "[I 2025-07-08 18:27:31,777] Trial 28 finished with value: 0.6966131907308378 and parameters: {'C': 54.65886802742288, 'kernel': 'sigmoid', 'gamma': 'scale', 'degree': 3}. Best is trial 22 with value: 0.8627450980392156.\n",
            "[I 2025-07-08 18:27:31,879] Trial 29 finished with value: 0.7495543672014259 and parameters: {'C': 34.613547572005565, 'kernel': 'poly', 'gamma': 'auto', 'degree': 2}. Best is trial 22 with value: 0.8627450980392156.\n",
            "[I 2025-07-08 18:27:31,962] Trial 30 finished with value: 0.7263814616755795 and parameters: {'C': 13.788107718483829, 'kernel': 'poly', 'gamma': 'scale', 'degree': 2}. Best is trial 22 with value: 0.8627450980392156.\n",
            "[I 2025-07-08 18:27:32,036] Trial 31 finished with value: 0.8568627450980392 and parameters: {'C': 90.870057085271, 'kernel': 'rbf', 'gamma': 'scale', 'degree': 3}. Best is trial 22 with value: 0.8627450980392156.\n",
            "[I 2025-07-08 18:27:32,108] Trial 32 finished with value: 0.8568627450980392 and parameters: {'C': 70.42451793971726, 'kernel': 'rbf', 'gamma': 'scale', 'degree': 3}. Best is trial 22 with value: 0.8627450980392156.\n",
            "[I 2025-07-08 18:27:32,172] Trial 33 finished with value: 0.8568627450980392 and parameters: {'C': 35.4958342207362, 'kernel': 'rbf', 'gamma': 'scale', 'degree': 3}. Best is trial 22 with value: 0.8627450980392156.\n",
            "[I 2025-07-08 18:27:32,242] Trial 34 finished with value: 0.8568627450980392 and parameters: {'C': 54.419786567871505, 'kernel': 'rbf', 'gamma': 'auto', 'degree': 3}. Best is trial 22 with value: 0.8627450980392156.\n",
            "[I 2025-07-08 18:27:32,305] Trial 35 finished with value: 0.8388591800356506 and parameters: {'C': 29.352989925574704, 'kernel': 'rbf', 'gamma': 'scale', 'degree': 4}. Best is trial 22 with value: 0.8627450980392156.\n",
            "[I 2025-07-08 18:27:32,372] Trial 36 finished with value: 0.7677361853832443 and parameters: {'C': 0.10092748136104257, 'kernel': 'rbf', 'gamma': 'scale', 'degree': 3}. Best is trial 22 with value: 0.8627450980392156.\n",
            "[I 2025-07-08 18:27:32,473] Trial 37 finished with value: 0.8568627450980392 and parameters: {'C': 69.82776758063962, 'kernel': 'rbf', 'gamma': 'scale', 'degree': 4}. Best is trial 22 with value: 0.8627450980392156.\n",
            "[I 2025-07-08 18:27:32,585] Trial 38 finished with value: 0.8449197860962567 and parameters: {'C': 40.766593029797434, 'kernel': 'rbf', 'gamma': 'auto', 'degree': 2}. Best is trial 22 with value: 0.8627450980392156.\n",
            "[I 2025-07-08 18:27:32,666] Trial 39 finished with value: 0.7791443850267379 and parameters: {'C': 0.8667344893847275, 'kernel': 'sigmoid', 'gamma': 'scale', 'degree': 3}. Best is trial 22 with value: 0.8627450980392156.\n",
            "[I 2025-07-08 18:27:32,742] Trial 40 finished with value: 0.7918003565062388 and parameters: {'C': 1.814177547065009, 'kernel': 'poly', 'gamma': 'auto', 'degree': 3}. Best is trial 22 with value: 0.8627450980392156.\n",
            "[I 2025-07-08 18:27:32,819] Trial 41 finished with value: 0.8568627450980392 and parameters: {'C': 94.46053338688425, 'kernel': 'rbf', 'gamma': 'scale', 'degree': 3}. Best is trial 22 with value: 0.8627450980392156.\n",
            "[I 2025-07-08 18:27:32,903] Trial 42 finished with value: 0.8568627450980392 and parameters: {'C': 71.69705734973391, 'kernel': 'rbf', 'gamma': 'scale', 'degree': 3}. Best is trial 22 with value: 0.8627450980392156.\n",
            "[I 2025-07-08 18:27:32,986] Trial 43 finished with value: 0.8568627450980392 and parameters: {'C': 92.70927066752719, 'kernel': 'rbf', 'gamma': 'scale', 'degree': 3}. Best is trial 22 with value: 0.8627450980392156.\n",
            "[I 2025-07-08 18:27:33,060] Trial 44 finished with value: 0.8329768270944742 and parameters: {'C': 25.980134913183743, 'kernel': 'rbf', 'gamma': 'scale', 'degree': 3}. Best is trial 22 with value: 0.8627450980392156.\n",
            "[I 2025-07-08 18:27:33,141] Trial 45 finished with value: 0.8568627450980392 and parameters: {'C': 48.03553834664368, 'kernel': 'rbf', 'gamma': 'scale', 'degree': 3}. Best is trial 22 with value: 0.8627450980392156.\n",
            "[I 2025-07-08 18:27:33,224] Trial 46 finished with value: 0.8629233511586453 and parameters: {'C': 65.73403907517717, 'kernel': 'rbf', 'gamma': 'scale', 'degree': 2}. Best is trial 46 with value: 0.8629233511586453.\n",
            "[I 2025-07-08 18:27:33,297] Trial 47 finished with value: 0.8270944741532977 and parameters: {'C': 18.587697205360147, 'kernel': 'rbf', 'gamma': 'scale', 'degree': 2}. Best is trial 46 with value: 0.8629233511586453.\n",
            "[I 2025-07-08 18:27:33,396] Trial 48 finished with value: 0.7142602495543672 and parameters: {'C': 59.87477081611517, 'kernel': 'sigmoid', 'gamma': 'auto', 'degree': 2}. Best is trial 46 with value: 0.8629233511586453.\n",
            "[I 2025-07-08 18:27:33,442] Trial 49 finished with value: 0.803921568627451 and parameters: {'C': 0.39047267398913715, 'kernel': 'rbf', 'gamma': 'scale', 'degree': 2}. Best is trial 46 with value: 0.8629233511586453.\n",
            "[I 2025-07-08 18:27:33,492] Trial 50 finished with value: 0.7914438502673796 and parameters: {'C': 32.584505630141976, 'kernel': 'poly', 'gamma': 'scale', 'degree': 4}. Best is trial 46 with value: 0.8629233511586453.\n",
            "[I 2025-07-08 18:27:33,544] Trial 51 finished with value: 0.8568627450980392 and parameters: {'C': 79.59261690235701, 'kernel': 'rbf', 'gamma': 'scale', 'degree': 3}. Best is trial 46 with value: 0.8629233511586453.\n",
            "[I 2025-07-08 18:27:33,595] Trial 52 finished with value: 0.8568627450980392 and parameters: {'C': 97.13843365468925, 'kernel': 'rbf', 'gamma': 'scale', 'degree': 3}. Best is trial 46 with value: 0.8629233511586453.\n",
            "[I 2025-07-08 18:27:33,642] Trial 53 finished with value: 0.8568627450980392 and parameters: {'C': 43.196697660858625, 'kernel': 'rbf', 'gamma': 'scale', 'degree': 5}. Best is trial 46 with value: 0.8629233511586453.\n",
            "[I 2025-07-08 18:27:33,694] Trial 54 finished with value: 0.8568627450980392 and parameters: {'C': 58.66191089123116, 'kernel': 'rbf', 'gamma': 'scale', 'degree': 2}. Best is trial 46 with value: 0.8629233511586453.\n",
            "[I 2025-07-08 18:27:33,792] Trial 55 finished with value: 0.8509803921568627 and parameters: {'C': 42.29576566374561, 'kernel': 'rbf', 'gamma': 'scale', 'degree': 3}. Best is trial 46 with value: 0.8629233511586453.\n",
            "[I 2025-07-08 18:27:33,835] Trial 56 finished with value: 0.839572192513369 and parameters: {'C': 7.599863502618742, 'kernel': 'rbf', 'gamma': 'scale', 'degree': 4}. Best is trial 46 with value: 0.8629233511586453.\n",
            "[I 2025-07-08 18:27:33,884] Trial 57 finished with value: 0.8329768270944742 and parameters: {'C': 22.936983107470606, 'kernel': 'rbf', 'gamma': 'scale', 'degree': 3}. Best is trial 46 with value: 0.8629233511586453.\n",
            "[I 2025-07-08 18:27:33,935] Trial 58 finished with value: 0.8568627450980392 and parameters: {'C': 71.69936583351219, 'kernel': 'rbf', 'gamma': 'scale', 'degree': 2}. Best is trial 46 with value: 0.8629233511586453.\n",
            "[I 2025-07-08 18:27:33,974] Trial 59 finished with value: 0.7140819964349375 and parameters: {'C': 15.158139516119844, 'kernel': 'sigmoid', 'gamma': 'scale', 'degree': 3}. Best is trial 46 with value: 0.8629233511586453.\n",
            "[I 2025-07-08 18:27:34,022] Trial 60 finished with value: 0.8568627450980392 and parameters: {'C': 53.30180208456386, 'kernel': 'rbf', 'gamma': 'scale', 'degree': 4}. Best is trial 46 with value: 0.8629233511586453.\n",
            "[I 2025-07-08 18:27:34,068] Trial 61 finished with value: 0.8568627450980392 and parameters: {'C': 35.81087715260478, 'kernel': 'rbf', 'gamma': 'scale', 'degree': 3}. Best is trial 46 with value: 0.8629233511586453.\n",
            "[I 2025-07-08 18:27:34,118] Trial 62 finished with value: 0.8568627450980392 and parameters: {'C': 77.30614272879404, 'kernel': 'rbf', 'gamma': 'scale', 'degree': 3}. Best is trial 46 with value: 0.8629233511586453.\n",
            "[I 2025-07-08 18:27:34,163] Trial 63 finished with value: 0.8568627450980392 and parameters: {'C': 43.84974980157286, 'kernel': 'rbf', 'gamma': 'scale', 'degree': 3}. Best is trial 46 with value: 0.8629233511586453.\n",
            "[I 2025-07-08 18:27:34,211] Trial 64 finished with value: 0.8568627450980392 and parameters: {'C': 58.69875290935882, 'kernel': 'rbf', 'gamma': 'scale', 'degree': 3}. Best is trial 46 with value: 0.8629233511586453.\n",
            "[I 2025-07-08 18:27:34,260] Trial 65 finished with value: 0.8509803921568627 and parameters: {'C': 98.74082199011829, 'kernel': 'rbf', 'gamma': 'scale', 'degree': 3}. Best is trial 46 with value: 0.8629233511586453.\n",
            "[I 2025-07-08 18:27:34,316] Trial 66 finished with value: 0.8217468805704099 and parameters: {'C': 27.980866356452676, 'kernel': 'poly', 'gamma': 'auto', 'degree': 3}. Best is trial 46 with value: 0.8629233511586453.\n",
            "[I 2025-07-08 18:27:34,372] Trial 67 finished with value: 0.8568627450980392 and parameters: {'C': 77.63364788321446, 'kernel': 'rbf', 'gamma': 'scale', 'degree': 2}. Best is trial 46 with value: 0.8629233511586453.\n",
            "[I 2025-07-08 18:27:34,421] Trial 68 finished with value: 0.8568627450980392 and parameters: {'C': 41.052820647523, 'kernel': 'rbf', 'gamma': 'scale', 'degree': 3}. Best is trial 46 with value: 0.8629233511586453.\n",
            "[I 2025-07-08 18:27:34,474] Trial 69 finished with value: 0.8568627450980392 and parameters: {'C': 57.071500128498045, 'kernel': 'rbf', 'gamma': 'scale', 'degree': 4}. Best is trial 46 with value: 0.8629233511586453.\n",
            "[I 2025-07-08 18:27:34,518] Trial 70 finished with value: 0.6903743315508021 and parameters: {'C': 10.75459126354398, 'kernel': 'sigmoid', 'gamma': 'scale', 'degree': 3}. Best is trial 46 with value: 0.8629233511586453.\n",
            "[I 2025-07-08 18:27:34,566] Trial 71 finished with value: 0.8568627450980392 and parameters: {'C': 47.44113634329611, 'kernel': 'rbf', 'gamma': 'scale', 'degree': 2}. Best is trial 46 with value: 0.8629233511586453.\n",
            "[I 2025-07-08 18:27:34,615] Trial 72 finished with value: 0.8629233511586453 and parameters: {'C': 66.20413427833218, 'kernel': 'rbf', 'gamma': 'scale', 'degree': 2}. Best is trial 46 with value: 0.8629233511586453.\n",
            "[I 2025-07-08 18:27:34,700] Trial 73 finished with value: 0.8568627450980392 and parameters: {'C': 81.42379522945653, 'kernel': 'rbf', 'gamma': 'scale', 'degree': 2}. Best is trial 46 with value: 0.8629233511586453.\n",
            "[I 2025-07-08 18:27:34,758] Trial 74 finished with value: 0.8629233511586453 and parameters: {'C': 64.86866394357153, 'kernel': 'rbf', 'gamma': 'scale', 'degree': 2}. Best is trial 46 with value: 0.8629233511586453.\n",
            "[I 2025-07-08 18:27:34,815] Trial 75 finished with value: 0.8629233511586453 and parameters: {'C': 64.40920104046684, 'kernel': 'rbf', 'gamma': 'scale', 'degree': 2}. Best is trial 46 with value: 0.8629233511586453.\n",
            "[I 2025-07-08 18:27:34,864] Trial 76 finished with value: 0.8629233511586453 and parameters: {'C': 64.76260235597405, 'kernel': 'rbf', 'gamma': 'scale', 'degree': 2}. Best is trial 46 with value: 0.8629233511586453.\n",
            "[I 2025-07-08 18:27:34,913] Trial 77 finished with value: 0.8629233511586453 and parameters: {'C': 63.56021572643928, 'kernel': 'rbf', 'gamma': 'scale', 'degree': 2}. Best is trial 46 with value: 0.8629233511586453.\n",
            "[I 2025-07-08 18:27:34,960] Trial 78 finished with value: 0.8508021390374332 and parameters: {'C': 33.84460130537525, 'kernel': 'rbf', 'gamma': 'scale', 'degree': 2}. Best is trial 46 with value: 0.8629233511586453.\n",
            "[I 2025-07-08 18:27:35,003] Trial 79 finished with value: 0.8210338680926916 and parameters: {'C': 22.35522419186089, 'kernel': 'rbf', 'gamma': 'auto', 'degree': 2}. Best is trial 46 with value: 0.8629233511586453.\n",
            "[I 2025-07-08 18:27:35,050] Trial 80 finished with value: 0.8629233511586453 and parameters: {'C': 66.41005522390616, 'kernel': 'rbf', 'gamma': 'scale', 'degree': 2}. Best is trial 46 with value: 0.8629233511586453.\n",
            "[I 2025-07-08 18:27:35,095] Trial 81 finished with value: 0.8629233511586453 and parameters: {'C': 68.83575589015665, 'kernel': 'rbf', 'gamma': 'scale', 'degree': 2}. Best is trial 46 with value: 0.8629233511586453.\n",
            "[I 2025-07-08 18:27:35,145] Trial 82 finished with value: 0.8629233511586453 and parameters: {'C': 67.28589215624243, 'kernel': 'rbf', 'gamma': 'scale', 'degree': 2}. Best is trial 46 with value: 0.8629233511586453.\n",
            "[I 2025-07-08 18:27:35,191] Trial 83 finished with value: 0.8629233511586453 and parameters: {'C': 65.78897490190997, 'kernel': 'rbf', 'gamma': 'scale', 'degree': 2}. Best is trial 46 with value: 0.8629233511586453.\n",
            "[I 2025-07-08 18:27:35,237] Trial 84 finished with value: 0.8629233511586453 and parameters: {'C': 66.28556298530225, 'kernel': 'rbf', 'gamma': 'scale', 'degree': 2}. Best is trial 46 with value: 0.8629233511586453.\n",
            "[I 2025-07-08 18:27:35,282] Trial 85 finished with value: 0.8629233511586453 and parameters: {'C': 63.01746415337309, 'kernel': 'rbf', 'gamma': 'scale', 'degree': 2}. Best is trial 46 with value: 0.8629233511586453.\n",
            "[I 2025-07-08 18:27:35,329] Trial 86 finished with value: 0.8568627450980392 and parameters: {'C': 36.781582749796875, 'kernel': 'rbf', 'gamma': 'scale', 'degree': 2}. Best is trial 46 with value: 0.8629233511586453.\n",
            "[I 2025-07-08 18:27:35,406] Trial 87 finished with value: 0.7497326203208555 and parameters: {'C': 49.410897674837145, 'kernel': 'poly', 'gamma': 'scale', 'degree': 2}. Best is trial 46 with value: 0.8629233511586453.\n",
            "[I 2025-07-08 18:27:35,454] Trial 88 finished with value: 0.8568627450980392 and parameters: {'C': 81.1234461304581, 'kernel': 'rbf', 'gamma': 'scale', 'degree': 2}. Best is trial 46 with value: 0.8629233511586453.\n",
            "[I 2025-07-08 18:27:35,497] Trial 89 finished with value: 0.8388591800356506 and parameters: {'C': 29.401537776831244, 'kernel': 'rbf', 'gamma': 'scale', 'degree': 2}. Best is trial 46 with value: 0.8629233511586453.\n",
            "[I 2025-07-08 18:27:35,535] Trial 90 finished with value: 0.8217468805704101 and parameters: {'C': 2.9607479499888116, 'kernel': 'rbf', 'gamma': 'scale', 'degree': 2}. Best is trial 46 with value: 0.8629233511586453.\n",
            "[I 2025-07-08 18:27:35,584] Trial 91 finished with value: 0.8629233511586453 and parameters: {'C': 63.41739960470646, 'kernel': 'rbf', 'gamma': 'scale', 'degree': 2}. Best is trial 46 with value: 0.8629233511586453.\n",
            "[I 2025-07-08 18:27:35,632] Trial 92 finished with value: 0.8629233511586453 and parameters: {'C': 67.59777265751669, 'kernel': 'rbf', 'gamma': 'scale', 'degree': 2}. Best is trial 46 with value: 0.8629233511586453.\n",
            "[I 2025-07-08 18:27:35,717] Trial 93 finished with value: 0.8568627450980392 and parameters: {'C': 83.18682065291561, 'kernel': 'rbf', 'gamma': 'scale', 'degree': 2}. Best is trial 46 with value: 0.8629233511586453.\n",
            "[I 2025-07-08 18:27:35,766] Trial 94 finished with value: 0.8568627450980392 and parameters: {'C': 52.764202816478665, 'kernel': 'rbf', 'gamma': 'scale', 'degree': 2}. Best is trial 46 with value: 0.8629233511586453.\n",
            "[I 2025-07-08 18:27:35,827] Trial 95 finished with value: 0.8568627450980392 and parameters: {'C': 47.11258528128521, 'kernel': 'rbf', 'gamma': 'scale', 'degree': 2}. Best is trial 46 with value: 0.8629233511586453.\n",
            "[I 2025-07-08 18:27:35,877] Trial 96 finished with value: 0.8629233511586453 and parameters: {'C': 67.78112907138492, 'kernel': 'rbf', 'gamma': 'scale', 'degree': 2}. Best is trial 46 with value: 0.8629233511586453.\n",
            "[I 2025-07-08 18:27:35,924] Trial 97 finished with value: 0.8390374331550803 and parameters: {'C': 38.56778367459431, 'kernel': 'rbf', 'gamma': 'auto', 'degree': 2}. Best is trial 46 with value: 0.8629233511586453.\n",
            "[I 2025-07-08 18:27:35,971] Trial 98 finished with value: 0.8568627450980392 and parameters: {'C': 83.76294140337951, 'kernel': 'rbf', 'gamma': 'scale', 'degree': 2}. Best is trial 46 with value: 0.8629233511586453.\n",
            "[I 2025-07-08 18:27:36,016] Trial 99 finished with value: 0.8629233511586453 and parameters: {'C': 60.15415325503804, 'kernel': 'rbf', 'gamma': 'scale', 'degree': 2}. Best is trial 46 with value: 0.8629233511586453.\n"
          ]
        },
        {
          "output_type": "stream",
          "name": "stdout",
          "text": [
            "\n",
            "SVM Optimization Finished.\n",
            "Best trial score: 0.8629\n",
            "Best parameters found:  {'C': 65.73403907517717, 'kernel': 'rbf', 'gamma': 'scale', 'degree': 2}\n"
          ]
        }
      ]
    },
    {
      "cell_type": "code",
      "source": [
        "# Train the best XGBoost model\n",
        "model_xgb = xgb.XGBClassifier(**best_params_xgb, use_label_encoder=False, random_state=42)\n",
        "model_xgb.fit(X_train_scaled, y_train)\n",
        "y_pred_xgb = model_xgb.predict(X_test_scaled)\n",
        "acc_xgb = accuracy_score(y_test, y_pred_xgb)\n",
        "print(f\"\\nOptimized XGBoost Test Accuracy: {acc_xgb:.4f}\")\n",
        "\n",
        "# Train the best SVM model\n",
        "model_svm = SVC(**best_params_svm, probability=True, random_state=42)\n",
        "model_svm.fit(X_train_scaled, y_train)\n",
        "y_pred_svm = model_svm.predict(X_test_scaled)\n",
        "acc_svm = accuracy_score(y_test, y_pred_svm)\n",
        "print(f\"Optimized SVM Test Accuracy: {acc_svm:.4f}\")\n",
        "\n",
        "# Select the best model for final threshold tuning\n",
        "if acc_xgb > acc_svm:\n",
        "    print(\"\\n---> XGBoost selected as the best model for final tuning.\")\n",
        "    final_model = model_xgb\n",
        "    best_model_name = \"XGBoost\"\n",
        "else:\n",
        "    print(\"\\n---> SVM selected as the best model for final tuning.\")\n",
        "    final_model = model_svm\n",
        "    best_model_name = \"SVM\""
      ],
      "metadata": {
        "colab": {
          "base_uri": "https://localhost:8080/"
        },
        "id": "0gQsJdTcRS_U",
        "outputId": "fc605c80-a2ef-4f8d-9c85-ac3f5b28989b"
      },
      "execution_count": 64,
      "outputs": [
        {
          "output_type": "stream",
          "name": "stdout",
          "text": [
            "\n",
            "Optimized XGBoost Test Accuracy: 0.8889\n",
            "Optimized SVM Test Accuracy: 0.8333\n",
            "\n",
            "---> XGBoost selected as the best model for final tuning.\n"
          ]
        }
      ]
    },
    {
      "cell_type": "code",
      "source": [
        "from sklearn.metrics import roc_curve, accuracy_score, classification_report, confusion_matrix\n",
        "import numpy as np\n",
        "\n",
        "# Get predicted probabilities from the chosen best model\n",
        "y_pred_proba = final_model.predict_proba(X_test_scaled)[:, 1]\n",
        "\n",
        "# Find the optimal threshold for ACCURACY\n",
        "thresholds = np.linspace(0, 1, 100)\n",
        "accuracy_scores = [accuracy_score(y_test, y_pred_proba >= thresh) for thresh in thresholds]\n",
        "\n",
        "optimal_idx = np.argmax(accuracy_scores)\n",
        "optimal_threshold = thresholds[optimal_idx]\n",
        "optimized_accuracy = accuracy_scores[optimal_idx]\n",
        "\n",
        "print(f\"\\n--- Final Tuning on Best Model ({best_model_name}) ---\")\n",
        "print(f\"Optimal Threshold for MAX ACCURACY found: {optimal_threshold:.4f}\")\n",
        "print(f\"Final Optimized Test Accuracy: {optimized_accuracy:.4f}\")\n",
        "\n",
        "# Apply the optimal threshold\n",
        "y_pred_optimized = (y_pred_proba >= optimal_threshold).astype(int)\n",
        "\n",
        "print(\"\\nFinal Optimized Classification Report:\")\n",
        "print(classification_report(y_test, y_pred_optimized, target_names=['Control', 'Diabetic']))\n",
        "\n",
        "cm_optimized = confusion_matrix(y_test, y_pred_optimized)\n",
        "plt.figure(figsize=(6, 5))\n",
        "sns.heatmap(cm_optimized, annot=True, fmt='d', cmap='Blues',\n",
        "            xticklabels=['Control', 'Diabetic'],\n",
        "            yticklabels=['Control', 'Diabetic'])\n",
        "plt.title(f'Confusion Matrix ({best_model_name} with Optimal Threshold)')\n",
        "plt.ylabel('Actual')\n",
        "plt.xlabel('Predicted')\n",
        "plt.show()"
      ],
      "metadata": {
        "colab": {
          "base_uri": "https://localhost:8080/",
          "height": 808
        },
        "id": "8uwYP0kqNdPK",
        "outputId": "6050467c-5444-4f6e-aab3-f1c5319ccba9"
      },
      "execution_count": 65,
      "outputs": [
        {
          "output_type": "stream",
          "name": "stdout",
          "text": [
            "\n",
            "--- Final Tuning on Best Model (XGBoost) ---\n",
            "Optimal Threshold for MAX ACCURACY found: 0.6162\n",
            "Final Optimized Test Accuracy: 0.9444\n",
            "\n",
            "Final Optimized Classification Report:\n",
            "              precision    recall  f1-score   support\n",
            "\n",
            "     Control       1.00      0.89      0.94        18\n",
            "    Diabetic       0.90      1.00      0.95        18\n",
            "\n",
            "    accuracy                           0.94        36\n",
            "   macro avg       0.95      0.94      0.94        36\n",
            "weighted avg       0.95      0.94      0.94        36\n",
            "\n"
          ]
        },
        {
          "output_type": "display_data",
          "data": {
            "text/plain": [
              "<Figure size 600x500 with 2 Axes>"
            ],
            "image/png": "[encoded data removed]"
          },
          "metadata": {}
        },
        {
          "output_type": "stream",
          "name": "stdout",
          "text": [
            "\n",
            "\n",
            "✅ SUCCESS: Target accuracy of >90% has been achieved!\n"
          ]
        }
      ]
    }
  ]
}